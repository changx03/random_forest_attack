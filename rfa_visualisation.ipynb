{
 "cells": [
  {
   "cell_type": "markdown",
   "metadata": {},
   "source": [
    "# Visualisation for Random Forest Attack"
   ]
  },
  {
   "cell_type": "code",
   "execution_count": null,
   "metadata": {},
   "outputs": [],
   "source": [
    "import multiprocessing\n",
    "import time\n",
    "\n",
    "from graphviz import Source\n",
    "import numpy as np\n",
    "import matplotlib.pyplot as plt\n",
    "import pandas as pd\n",
    "import seaborn as sns\n",
    "from sklearn.datasets import make_blobs\n",
    "from sklearn.ensemble import BaggingClassifier, RandomForestClassifier\n",
    "from sklearn.tree import export_graphviz\n",
    "from tqdm import trange\n",
    "\n",
    "from rfa import RandomForestAttack"
   ]
  },
  {
   "cell_type": "code",
   "execution_count": null,
   "metadata": {},
   "outputs": [],
   "source": [
    "SEED = 0"
   ]
  },
  {
   "cell_type": "code",
   "execution_count": null,
   "metadata": {},
   "outputs": [],
   "source": [
    "X, y = make_blobs(n_samples=300, n_features=2, centers=4,\n",
    "                  random_state=SEED, cluster_std=1.0)\n",
    "# Rescaling to [-1, 1]\n",
    "X_max = np.max(X, axis=0)\n",
    "X_min = np.min(X, axis=0)\n",
    "X = 1 - 2 * (X - X_min)/(X_max - X_min)"
   ]
  },
  {
   "cell_type": "code",
   "execution_count": null,
   "metadata": {},
   "outputs": [],
   "source": [
    "plt.figure(figsize=(7, 7))\n",
    "plt.scatter(X[:, 0], X[:, 1], c=y, s=50, cmap='rainbow')\n",
    "plt.xlim(-1, 1)\n",
    "plt.ylim(-1, 1)\n",
    "plt.show()"
   ]
  },
  {
   "cell_type": "code",
   "execution_count": null,
   "metadata": {},
   "outputs": [],
   "source": [
    "def visualize_classifier(model, X, y, cmap='rainbow'):\n",
    "    plt.figure(figsize=(7, 7))\n",
    "    ax = plt.gca()\n",
    "    \n",
    "    ax.scatter(X[:, 0], X[:, 1], c=y, s=30, cmap=cmap, \n",
    "               clim=(y.min(), y.max()), zorder=3)\n",
    "    xlim = (-1.0, 1.0)\n",
    "    ylim = (-1.0, 1.0)\n",
    "    \n",
    "    xx, yy = np.meshgrid(np.linspace(*xlim, num=200),\n",
    "                         np.linspace(*ylim, num=200))\n",
    "    Z = model.predict(np.c_[xx.ravel(), yy.ravel()]).reshape(xx.shape)\n",
    "    \n",
    "    # Create a color plot with the results\n",
    "    n_classes = len(np.unique(y))\n",
    "    contours = ax.contourf(xx, yy, Z, alpha=0.3,\n",
    "                           levels=np.arange(n_classes + 1) - 0.5,\n",
    "                           cmap=cmap, zorder=1)\n",
    "\n",
    "    ax.set(xlim=xlim, ylim=ylim)\n",
    "    plt.show()"
   ]
  },
  {
   "cell_type": "code",
   "execution_count": null,
   "metadata": {},
   "outputs": [],
   "source": [
    "N_TREES = 10\n",
    "model = RandomForestClassifier(n_estimators=N_TREES, random_state=SEED)\n",
    "model.fit(X, y)"
   ]
  },
  {
   "cell_type": "code",
   "execution_count": null,
   "metadata": {},
   "outputs": [],
   "source": [
    "visualize_classifier(model, X, y)"
   ]
  },
  {
   "cell_type": "code",
   "execution_count": null,
   "metadata": {},
   "outputs": [],
   "source": [
    "digraphs = []\n",
    "\n",
    "for estimator in model.estimators_:\n",
    "    dot = export_graphviz(estimator,\n",
    "                feature_names = ['x0', 'x1'],\n",
    "                class_names = ['0', '1', '2', '3'],\n",
    "                rounded = True, proportion = False, \n",
    "                precision = 2, filled = True)\n",
    "    digraphs.append(Source(dot))"
   ]
  },
  {
   "cell_type": "code",
   "execution_count": null,
   "metadata": {},
   "outputs": [],
   "source": [
    "digraphs[0]"
   ]
  },
  {
   "cell_type": "code",
   "execution_count": null,
   "metadata": {},
   "outputs": [],
   "source": [
    "digraphs[1]"
   ]
  },
  {
   "cell_type": "code",
   "execution_count": null,
   "metadata": {
    "tags": []
   },
   "outputs": [],
   "source": [
    "print('Accuracy on train set:', model.score(X, y))"
   ]
  },
  {
   "cell_type": "code",
   "execution_count": null,
   "metadata": {},
   "outputs": [],
   "source": [
    "SIZE = 100"
   ]
  },
  {
   "cell_type": "code",
   "execution_count": null,
   "metadata": {
    "tags": []
   },
   "outputs": [],
   "source": [
    "shuffled_indices = np.random.choice(X.shape[0], size=SIZE, replace=False)\n",
    "X_test = X[shuffled_indices]\n",
    "y_test = y[shuffled_indices]\n",
    "print('Accuracy on test set: {:.2f}%'.format(model.score(X_test, y_test) * 100))"
   ]
  },
  {
   "cell_type": "code",
   "execution_count": null,
   "metadata": {},
   "outputs": [],
   "source": [
    "# Hyperparameters\n",
    "# N_THREADS = multiprocessing.cpu_count()\n",
    "N_THREADS = 1\n",
    "EPSILON = 1e-4  # The minimum change to update a feature.\n",
    "MAX_BUDGET = 0.01 * X.shape[1]   # The max. perturbation is allowed.\n",
    "\n",
    "# rule : {'least_leaf', 'least_root', 'least_global', 'random'}\n",
    "PICK_RULE = 'random'"
   ]
  },
  {
   "cell_type": "code",
   "execution_count": null,
   "metadata": {},
   "outputs": [],
   "source": [
    "attack = RandomForestAttack(model, max_budget=MAX_BUDGET, epsilon=EPSILON,\n",
    "                            rule=PICK_RULE, n_threads=N_THREADS)"
   ]
  },
  {
   "cell_type": "code",
   "execution_count": null,
   "metadata": {},
   "outputs": [],
   "source": [
    "start = time.time()\n",
    "X_adv = attack.generate(X_test, y_test)\n",
    "time_elapsed = time.time() - start\n",
    "print('Time to complete: {:d}m {:.3f}s'.format(int(time_elapsed // 60), time_elapsed % 60))"
   ]
  },
  {
   "cell_type": "code",
   "execution_count": null,
   "metadata": {
    "tags": []
   },
   "outputs": [],
   "source": [
    "y_pred = model.predict(X_test)\n",
    "acc = np.count_nonzero(y_pred == y_test) / SIZE\n",
    "print('Accuracy on test set = {:.2f}%'.format(acc*SIZE))\n",
    "\n",
    "adv_pred = model.predict(X_adv)\n",
    "acc = np.count_nonzero(adv_pred == y_test) / SIZE\n",
    "print('Accuracy on adversarial example set = {:.2f}%'.format(acc*SIZE))"
   ]
  },
  {
   "cell_type": "code",
   "execution_count": null,
   "metadata": {
    "tags": []
   },
   "outputs": [],
   "source": [
    "l2_norm = np.mean(np.linalg.norm(X_test - X_adv, axis=1))\n",
    "print('Average l2 norm = {:.3f}'.format(l2_norm))"
   ]
  },
  {
   "cell_type": "code",
   "execution_count": null,
   "metadata": {},
   "outputs": [],
   "source": [
    "visualize_classifier(model, X[shuffled_indices], y[shuffled_indices])"
   ]
  },
  {
   "cell_type": "code",
   "execution_count": null,
   "metadata": {},
   "outputs": [],
   "source": [
    "visualize_classifier(model, X_adv, y[shuffled_indices])"
   ]
  },
  {
   "cell_type": "code",
   "execution_count": null,
   "metadata": {},
   "outputs": [],
   "source": []
  }
 ],
 "metadata": {
  "kernelspec": {
   "display_name": "Python 3.6.9 64-bit ('venv': venv)",
   "language": "python",
   "name": "python36964bitvenvvenv176f1e61aec34b8aa02446bdaa51a523"
  },
  "language_info": {
   "codemirror_mode": {
    "name": "ipython",
    "version": 3
   },
   "file_extension": ".py",
   "mimetype": "text/x-python",
   "name": "python",
   "nbconvert_exporter": "python",
   "pygments_lexer": "ipython3",
   "version": "3.6.9-final"
  }
 },
 "nbformat": 4,
 "nbformat_minor": 4
}