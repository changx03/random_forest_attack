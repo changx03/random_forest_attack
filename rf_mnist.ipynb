{
 "cells": [
  {
   "cell_type": "code",
   "execution_count": 1,
   "metadata": {},
   "outputs": [],
   "source": [
    "import multiprocessing\n",
    "import os\n",
    "import random\n",
    "import pickle\n",
    "import time\n",
    "\n",
    "import matplotlib.pyplot as plt\n",
    "import numpy as np\n",
    "from sklearn.datasets import fetch_openml\n",
    "from sklearn.model_selection import train_test_split\n",
    "from sklearn.ensemble import RandomForestClassifier\n",
    "\n",
    "from rfa import RandomForestAttack"
   ]
  },
  {
   "cell_type": "code",
   "execution_count": 2,
   "metadata": {},
   "outputs": [],
   "source": [
    "# Load MNIST dataset from OpenML\n",
    "FILE_NAME = 'mnist.p'\n",
    "\n",
    "if os.path.isfile(FILE_NAME):\n",
    "    data = pickle.load(open(FILE_NAME, 'rb'))\n",
    "else:\n",
    "    data = fetch_openml('mnist_784', version=1)\n",
    "    pickle.dump(data, open(FILE_NAME, 'wb'))\n",
    "X = data.data\n",
    "y = data.target.astype(np.int64)"
   ]
  },
  {
   "cell_type": "code",
   "execution_count": 3,
   "metadata": {},
   "outputs": [],
   "source": [
    "# Rescaling to [-1, 1]\n",
    "X_max = np.max(X)\n",
    "X_min = np.min(X)\n",
    "X = 1 - 2 * (X - X_min)/(X_max - X_min)"
   ]
  },
  {
   "cell_type": "code",
   "execution_count": 4,
   "metadata": {
    "tags": []
   },
   "outputs": [
    {
     "name": "stdout",
     "output_type": "stream",
     "text": [
      "(60000, 784)\n",
      "(10000, 784)\n"
     ]
    }
   ],
   "source": [
    "X_train, X_test, y_train, y_test = train_test_split(\n",
    "    X, y, test_size=10000)\n",
    "print(X_train.shape)\n",
    "print(X_test.shape)"
   ]
  },
  {
   "cell_type": "code",
   "execution_count": 5,
   "metadata": {},
   "outputs": [],
   "source": [
    "# Hyperparameters\n",
    "N_THREADS = multiprocessing.cpu_count()\n",
    "N_TREES = 16\n",
    "EPSILON = 1e-4  # The minimum change to update a feature.\n",
    "MAX_BUDGET = 0.01 * X.shape[1]   # The max. perturbation is allowed.\n",
    "SIZE = 100"
   ]
  },
  {
   "cell_type": "code",
   "execution_count": 6,
   "metadata": {},
   "outputs": [
    {
     "data": {
      "text/plain": [
       "RandomForestClassifier(bootstrap=True, ccp_alpha=0.0, class_weight=None,\n",
       "                       criterion='gini', max_depth=None, max_features='auto',\n",
       "                       max_leaf_nodes=None, max_samples=None,\n",
       "                       min_impurity_decrease=0.0, min_impurity_split=None,\n",
       "                       min_samples_leaf=1, min_samples_split=2,\n",
       "                       min_weight_fraction_leaf=0.0, n_estimators=16,\n",
       "                       n_jobs=None, oob_score=False, random_state=None,\n",
       "                       verbose=0, warm_start=False)"
      ]
     },
     "execution_count": 6,
     "metadata": {},
     "output_type": "execute_result"
    }
   ],
   "source": [
    "# Train model\n",
    "rf_model = RandomForestClassifier(n_estimators=N_TREES)\n",
    "rf_model.fit(X_train, y_train)"
   ]
  },
  {
   "cell_type": "code",
   "execution_count": 7,
   "metadata": {
    "tags": []
   },
   "outputs": [
    {
     "name": "stdout",
     "output_type": "stream",
     "text": [
      "Accuracy on train set: 0.9999166666666667\n",
      "Accuracy on test set:  0.9588\n"
     ]
    }
   ],
   "source": [
    "print('Accuracy on train set:', rf_model.score(X_train, y_train))\n",
    "print('Accuracy on test set: ', rf_model.score(X_test, y_test))"
   ]
  },
  {
   "cell_type": "code",
   "execution_count": 8,
   "metadata": {
    "tags": []
   },
   "outputs": [],
   "source": [
    "attack = RandomForestAttack(rf_model, max_budget=MAX_BUDGET, epsilon=EPSILON,\n",
    "                            rule='least_leaf', n_threads=N_THREADS)"
   ]
  },
  {
   "cell_type": "code",
   "execution_count": 9,
   "metadata": {},
   "outputs": [
    {
     "name": "stdout",
     "output_type": "stream",
     "text": [
      "Number of threads: 6\n",
      "Genearting 100 adversarial examples\n",
      "String the   10th data point...\n",
      "String the   20th data point...\n",
      "String the   30th data point...\n",
      "String the   40th data point...\n",
      "String the   50th data point...\n",
      "String the   60th data point...\n",
      "String the   70th data point...\n",
      "String the   80th data point...\n",
      "String the   90th data point...\n",
      "String the  100th data point...\n",
      "Time to complete: 1m 23.667s\n"
     ]
    }
   ],
   "source": [
    "print('Number of threads: {}'.format(N_THREADS))\n",
    "print('Genearting {} adversarial examples'.format(SIZE))\n",
    "\n",
    "start = time.time()\n",
    "X_adv = attack.generate(X_test[:SIZE], y_test[:SIZE])\n",
    "time_elapsed = time.time() - start\n",
    "\n",
    "print('Time to complete: {:d}m {:.3f}s'.format(int(time_elapsed // 60), time_elapsed % 60))"
   ]
  },
  {
   "cell_type": "code",
   "execution_count": 10,
   "metadata": {
    "tags": []
   },
   "outputs": [
    {
     "name": "stdout",
     "output_type": "stream",
     "text": [
      "Accuracy on test set = 94.00%\n",
      "Accuracy on adversarial example set = 17.00%\n"
     ]
    }
   ],
   "source": [
    "y_pred = rf_model.predict(X_test[:SIZE])\n",
    "acc = np.count_nonzero(y_pred == y_test[:SIZE]) / SIZE * 100.0\n",
    "print('Accuracy on test set = {:.2f}%'.format(acc))\n",
    "\n",
    "adv_pred = rf_model.predict(X_adv)\n",
    "acc = np.count_nonzero(adv_pred == y_test[:SIZE]) / SIZE * 100.0\n",
    "print('Accuracy on adversarial example set = {:.2f}%'.format(acc))"
   ]
  },
  {
   "cell_type": "code",
   "execution_count": 11,
   "metadata": {},
   "outputs": [
    {
     "name": "stderr",
     "output_type": "stream",
     "text": [
      "/home/lukec/venv/lib/python3.6/site-packages/ipykernel_launcher.py:15: UserWarning: Matplotlib is currently using module://ipykernel.pylab.backend_inline, which is a non-GUI backend, so cannot show the figure.\n",
      "  from ipykernel import kernelapp as app\n"
     ]
    },
    {
     "data": {
      "image/png": "[encoded data removed]",
      "text/plain": [
       "<Figure size 2160x432 with 20 Axes>"
      ]
     },
     "metadata": {
      "needs_background": "light"
     },
     "output_type": "display_data"
    }
   ],
   "source": [
    "N_FIGS = 10\n",
    "selected_indices = np.random.choice(SIZE, size=N_FIGS, replace=False)\n",
    "fig, axs = plt.subplots(nrows=2, ncols=N_FIGS,figsize=(N_FIGS*3, 2*3 ))\n",
    "\n",
    "for i in range(N_FIGS):\n",
    "    axs[0,i].imshow(X_test[selected_indices[i]].reshape(28, 28),\n",
    "                    interpolation='none', vmin=-1.0, vmax=1.0, cmap=plt.cm.gray_r)\n",
    "    axs[0,i].set_title(str(y_pred[selected_indices[i]]))\n",
    "    axs[0,i].axis('off')\n",
    "\n",
    "    axs[1,i].imshow(X_adv[selected_indices[i]].reshape(28, 28),\n",
    "                    interpolation='none', vmin=-1.0, vmax=1.0, cmap=plt.cm.gray_r)\n",
    "    axs[1,i].set_title(str(adv_pred[selected_indices[i]]))\n",
    "    axs[1,i].axis('off')\n",
    "fig.show()"
   ]
  },
  {
   "cell_type": "code",
   "execution_count": 12,
   "metadata": {
    "tags": []
   },
   "outputs": [
    {
     "name": "stdout",
     "output_type": "stream",
     "text": [
      "Average l2 norm = 2.298\n"
     ]
    }
   ],
   "source": [
    "l2_norm = np.mean(np.linalg.norm(X_test[:SIZE] - X_adv, axis=1))\n",
    "print('Average l2 norm = {:.3f}'.format(l2_norm))"
   ]
  },
  {
   "cell_type": "code",
   "execution_count": null,
   "metadata": {},
   "outputs": [],
   "source": []
  }
 ],
 "metadata": {
  "kernelspec": {
   "display_name": "Python 3.6.9 64-bit ('venv': venv)",
   "language": "python",
   "name": "python36964bitvenvvenv794a3f6500e74251b078ca195c3ad1e1"
  },
  "language_info": {
   "codemirror_mode": {
    "name": "ipython",
    "version": 3
   },
   "file_extension": ".py",
   "mimetype": "text/x-python",
   "name": "python",
   "nbconvert_exporter": "python",
   "pygments_lexer": "ipython3",
   "version": "3.6.9"
  }
 },
 "nbformat": 4,
 "nbformat_minor": 4
}
