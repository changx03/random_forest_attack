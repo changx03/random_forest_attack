{
 "cells": [
  {
   "cell_type": "markdown",
   "metadata": {},
   "source": [
    " # Random Forest on MNIST dataset"
   ]
  },
  {
   "cell_type": "code",
   "execution_count": 1,
   "metadata": {},
   "outputs": [],
   "source": [
    "import os\n",
    "import random\n",
    "import matplotlib.pyplot as plt\n",
    "import numpy as np\n",
    "import pickle\n",
    "from sklearn.datasets import fetch_openml\n",
    "from sklearn.model_selection import train_test_split\n",
    "from sklearn.ensemble import RandomForestClassifier\n",
    "from tqdm import trange\n"
   ]
  },
  {
   "cell_type": "code",
   "execution_count": 2,
   "metadata": {},
   "outputs": [],
   "source": [
    "# Load MNIST dataset from OpenML\n",
    "FILE_NAME = 'mnist.p'\n",
    "\n",
    "if os.path.isfile(FILE_NAME):\n",
    "    data = pickle.load(open(FILE_NAME, 'rb'))\n",
    "else:\n",
    "    data = fetch_openml('mnist_784', version=1)\n",
    "    pickle.dump(data, open(FILE_NAME, 'wb'))\n",
    "X = data.data\n",
    "y = data.target.astype(np.int64)\n"
   ]
  },
  {
   "cell_type": "code",
   "execution_count": 3,
   "metadata": {},
   "outputs": [],
   "source": [
    "# Rescaling to [-1, 1]\n",
    "X_max = np.max(X)\n",
    "X_min = np.min(X)\n",
    "X = 1 - 2 * (X - X_min)/(X_max - X_min)"
   ]
  },
  {
   "cell_type": "code",
   "execution_count": 4,
   "metadata": {
    "tags": []
   },
   "outputs": [
    {
     "output_type": "stream",
     "name": "stdout",
     "text": "(60000, 784)\n(10000, 784)\n"
    }
   ],
   "source": [
    "X_train, X_test, y_train, y_test = train_test_split(\n",
    "    X, y, test_size=10000)\n",
    "print(X_train.shape)\n",
    "print(X_test.shape)"
   ]
  },
  {
   "cell_type": "code",
   "execution_count": 5,
   "metadata": {},
   "outputs": [],
   "source": [
    "N_TREES = 16\n",
    "EPSILON = 1e-4  # The minimum change to update a feature.\n",
    "MAX_BUDGET = 0.1 * X.shape[1]   # The max. perturbation is allowed."
   ]
  },
  {
   "cell_type": "code",
   "execution_count": 6,
   "metadata": {},
   "outputs": [],
   "source": [
    "class Path():\n",
    "    \"\"\"A Path is used by a single Decision Tree Estimator for a given input.\"\"\"\n",
    "\n",
    "    def __init__(self,\n",
    "                 x,\n",
    "                 feature_indices,\n",
    "                 thresholds):\n",
    "        self.x = np.squeeze(x)\n",
    "        self.feature_indices = feature_indices\n",
    "        self.thresholds = thresholds\n",
    "        assert self.feature_indices.shape == self.thresholds.shape,             \"feature_indices and thresholds should have same shape.\"\n",
    "        self.visited_list = np.zeros(self.feature_indices.shape, dtype=bool)\n",
    "\n",
    "    @property\n",
    "    def last_unvisited_index(self):\n",
    "        \"\"\"The index of the last unvisited node.\"\"\"\n",
    "        # search from the end\n",
    "        for i, is_visited in reversed(list(enumerate(self.visited_list))):\n",
    "            if is_visited != True:\n",
    "                return i\n",
    "        return -1\n",
    "\n",
    "    @property\n",
    "    def last_node(self):\n",
    "        \"\"\"Returns the last unvisited node.\"\"\"\n",
    "        idx = self.last_unvisited_index\n",
    "        if idx == -1:\n",
    "            return None\n",
    "        return {\n",
    "            'feature_index': self.feature_indices[idx],\n",
    "            'threshold': self.thresholds[idx]\n",
    "        }\n",
    "\n",
    "    @property\n",
    "    def sign(self):\n",
    "        \"\"\"The direction of the cost.\"\"\"\n",
    "        node = self.last_node\n",
    "        if node is None:\n",
    "            return 1\n",
    "        return 1 if self.x[node['feature_index']] <= node['threshold'] else -1\n",
    "\n",
    "    @property\n",
    "    def cost(self):\n",
    "        \"\"\"The absolute cost to switch the branch.\"\"\"\n",
    "        node = self.last_node\n",
    "        if node is None:\n",
    "            return np.inf\n",
    "        return np.abs(self.x[node['feature_index']] - node['threshold']) + EPSILON\n",
    "\n",
    "    def get_next_x(self):\n",
    "        \"\"\"The value is required to switch the branch.\"\"\"\n",
    "        node = self.last_node\n",
    "        x = np.copy(self.x)\n",
    "        if node is None:\n",
    "            return x\n",
    "        x[node['feature_index']] += self.sign * self.cost\n",
    "        return x\n",
    "\n",
    "    def visit_last_node(self):\n",
    "        \"\"\"Marks the last node as visited.\"\"\"\n",
    "        idx = self.last_unvisited_index\n",
    "        self.visited_list[idx] = True\n",
    "\n"
   ]
  },
  {
   "cell_type": "code",
   "execution_count": 7,
   "metadata": {},
   "outputs": [],
   "source": [
    "def build_paths(x, model, y):\n",
    "    \"\"\"Returns an array of paths with the correct prediction.\"\"\"\n",
    "    estimators = model.estimators_  # An array of DecisionTreeClassifier\n",
    "    paths = []\n",
    "    x = np.expand_dims(x, axis=0)\n",
    "    for i, estimator in enumerate(estimators):\n",
    "        pred = estimator.predict(x)\n",
    "        if pred[0] != y[0]:  # Already misclassified, ignore this path\n",
    "            continue\n",
    "        # Get path indices\n",
    "        # csr_matrix.nonzero() returns (row, col). We only need column indices.\n",
    "        path_node_idx = estimator.decision_path(x).nonzero()[1]\n",
    "        path_node_idx = path_node_idx[:-1]  # The last node is the output node\n",
    "\n",
    "        # Find feature indices and thresholds\n",
    "        tree = estimator.tree_\n",
    "        feature_indices = np.array(tree.feature[path_node_idx])\n",
    "        thresholds = np.array(tree.threshold[path_node_idx])\n",
    "\n",
    "        path = Path(x, feature_indices, thresholds)\n",
    "        paths.append(path)\n",
    "    return paths\n",
    "\n"
   ]
  },
  {
   "cell_type": "code",
   "execution_count": 8,
   "metadata": {},
   "outputs": [],
   "source": [
    "def find_next_path(paths, x_directions):\n",
    "    \"\"\"Finds the path with minimum cost.\"\"\"\n",
    "    min_cost = np.inf\n",
    "    min_path = None\n",
    "    for path in paths:\n",
    "        if path.last_node is None:  # No viable node\n",
    "            continue\n",
    "        feature_idx = path.last_node['feature_index']\n",
    "        # lowest cost and same direction (0 means it can go either way)\n",
    "        if (min_cost > path.cost and\n",
    "            (x_directions[feature_idx] == 0 or\n",
    "             path.sign == x_directions[feature_idx])):\n",
    "            min_cost = path.cost\n",
    "            min_path = path\n",
    "    return min_path\n",
    "\n"
   ]
  },
  {
   "cell_type": "code",
   "execution_count": 9,
   "metadata": {},
   "outputs": [],
   "source": [
    "def compute_direction(x_stack, n_features):\n",
    "    \"\"\"Compute the direction of the updates on x\"\"\"\n",
    "    x_directions = np.zeros(n_features, dtype=np.int64)\n",
    "    if len(x_stack) >= 2:  # The 1st x is the input.\n",
    "        x_directions = np.sign(x_stack[-1] - x_stack[0]).astype(np.int64)\n",
    "    return x_directions\n",
    "\n"
   ]
  },
  {
   "cell_type": "code",
   "execution_count": 10,
   "metadata": {},
   "outputs": [],
   "source": [
    "def random_forest_attack(model, x, y):\n",
    "    \"\"\"Generates an adversarial example from single input.\"\"\"\n",
    "    m = x.shape[1]  # Number of input features\n",
    "    budget = MAX_BUDGET\n",
    "    x_stack = [x.squeeze()]  # Expect format [[x0, x1, ...]]\n",
    "    x_directions = np.zeros(m, dtype=np.int64)\n",
    "    paths = build_paths(x_stack[0], model, y)\n",
    "    paths_stack = [paths]  # Expect format [[path0, path1, ...]]\n",
    "\n",
    "    while True:\n",
    "        # Predict latest updated x\n",
    "        if model.predict(np.expand_dims(x_stack[-1], axis=0))[0] != y[0]:\n",
    "            return x_stack[-1].reshape(x.shape)\n",
    "\n",
    "        # Pick a node\n",
    "        least_cost_path = find_next_path(paths_stack[-1], x_directions)\n",
    "        if (least_cost_path is None and\n",
    "                len(paths_stack) == 1 and\n",
    "                len(x_stack) == 1):  # No more viable node at the root\n",
    "            break\n",
    "\n",
    "        while least_cost_path is None or budget < 0:\n",
    "            # Current branch has no viable path. Go up!\n",
    "            # Don't remove the root\n",
    "            if len(paths_stack) > 1 and len(x_stack) > 1:\n",
    "                paths_stack.pop()\n",
    "                last_x = x_stack.pop()\n",
    "            else:\n",
    "                last_x = x_stack[0]\n",
    "\n",
    "            # RESTORE: direction\n",
    "            x_directions = compute_direction(x_stack, m)\n",
    "            # RESTORE: budget\n",
    "            change = last_x - x_stack[-1]\n",
    "            budget += np.abs(np.sum(change))\n",
    "            current_paths = paths_stack[-1]\n",
    "            least_cost_path = find_next_path(current_paths, x_directions)\n",
    "\n",
    "            if least_cost_path is None:\n",
    "                # No viable perturbation within the budget. Exit\n",
    "                return x_stack[-1].reshape(x.shape)\n",
    "\n",
    "        # UPDATE: Order matters!\n",
    "        # UPDATE 1) Append x\n",
    "        next_x = least_cost_path.get_next_x()\n",
    "        x_stack.append(next_x)\n",
    "        # UPDATE 2) Reduce budget\n",
    "        budget -= least_cost_path.cost\n",
    "        # UPDATE 3) Update direction\n",
    "        feature_index = least_cost_path.last_node['feature_index']\n",
    "        x_directions[feature_index] = least_cost_path.sign\n",
    "        # UPDATE 4) Append path\n",
    "        # WARNING: After this call, the node with min cost will switch to the next least node.\n",
    "        least_cost_path.visit_last_node()\n",
    "        next_paths = build_paths(next_x, model, y)\n",
    "        paths_stack.append(next_paths)\n",
    "\n",
    "    # If the code reaches this line, it means it cannot find viable adversarial example.\n",
    "    return x_stack[-1].reshape(x.shape)"
   ]
  },
  {
   "cell_type": "code",
   "execution_count": 11,
   "metadata": {},
   "outputs": [
    {
     "output_type": "execute_result",
     "data": {
      "text/plain": "RandomForestClassifier(bootstrap=True, ccp_alpha=0.0, class_weight=None,\n                       criterion='gini', max_depth=None, max_features='auto',\n                       max_leaf_nodes=None, max_samples=None,\n                       min_impurity_decrease=0.0, min_impurity_split=None,\n                       min_samples_leaf=1, min_samples_split=2,\n                       min_weight_fraction_leaf=0.0, n_estimators=16, n_jobs=-1,\n                       oob_score=False, random_state=None, verbose=0,\n                       warm_start=False)"
     },
     "metadata": {},
     "execution_count": 11
    }
   ],
   "source": [
    "# Train model\n",
    "rf_model = RandomForestClassifier(n_jobs=-1, n_estimators=N_TREES)\n",
    "rf_model.fit(X_train, y_train)\n",
    "\n"
   ]
  },
  {
   "cell_type": "code",
   "execution_count": 12,
   "metadata": {
    "tags": []
   },
   "outputs": [
    {
     "output_type": "stream",
     "name": "stdout",
     "text": "Accuracy on train set: 0.9997833333333334\nAccuracy on test set:  0.9602\n"
    }
   ],
   "source": [
    "print('Accuracy on train set:', rf_model.score(X_train, y_train))\n",
    "print('Accuracy on test set: ', rf_model.score(X_test, y_test))"
   ]
  },
  {
   "cell_type": "code",
   "execution_count": 13,
   "metadata": {
    "tags": []
   },
   "outputs": [
    {
     "output_type": "stream",
     "name": "stderr",
     "text": "100%|██████████| 100/100 [03:08<00:00,  1.89s/it]\n"
    }
   ],
   "source": [
    "SIZE = 100\n",
    "X_adv = np.empty((SIZE, X_test.shape[1]), dtype=X_test.dtype)\n",
    "# Process one data point at a time\n",
    "for i in trange(SIZE):\n",
    "    _x = np.expand_dims(X_test[i], axis=0)\n",
    "    _y = np.expand_dims(y_test[i], axis=0).astype(np.int64)\n",
    "    X_adv[i] = random_forest_attack(rf_model, _x, _y).flatten()\n"
   ]
  },
  {
   "cell_type": "code",
   "execution_count": 14,
   "metadata": {
    "tags": []
   },
   "outputs": [
    {
     "output_type": "stream",
     "name": "stdout",
     "text": "Accuracy on test set = 96.00%\nAccuracy on adversarial example set = 0.00%\n"
    }
   ],
   "source": [
    "y_pred = rf_model.predict(X_test[:SIZE])\n",
    "acc = np.count_nonzero(y_pred == y_test[:SIZE]) / len(y_test[:SIZE])\n",
    "print('Accuracy on test set = {:.2f}%'.format(acc*SIZE))\n",
    "\n",
    "adv_pred = rf_model.predict(np.array(X_adv))\n",
    "acc = np.count_nonzero(adv_pred == y_test[:SIZE]) / len(y_test[:SIZE])\n",
    "print('Accuracy on adversarial example set = {:.2f}%'.format(acc*SIZE))"
   ]
  },
  {
   "cell_type": "code",
   "execution_count": 15,
   "metadata": {},
   "outputs": [
    {
     "output_type": "display_data",
     "data": {
      "text/plain": "<Figure size 2160x432 with 20 Axes>",
      "image/svg+xml": "<?xml version=\"1.0\" encoding=\"utf-8\" standalone=\"no\"?>\n<!DOCTYPE svg PUBLIC \"-//W3C//DTD SVG 1.1//EN\"\n  \"http://www.w3.org/Graphics/SVG/1.1/DTD/svg11.dtd\">\n<!-- Created with matplotlib (https://matplotlib.org/) -->\n<svg height=\"349.287986pt\" version=\"1.1\" viewBox=\"0 0 1688.4 349.287986\" width=\"1688.4pt\" xmlns=\"http://www.w3.org/2000/svg\" xmlns:xlink=\"http://www.w3.org/1999/xlink\">\n <defs>\n  <style type=\"text/css\">\n*{stroke-linecap:butt;stroke-linejoin:round;}\n  </style>\n </defs>\n <g id=\"figure_1\">\n  <g id=\"patch_1\">\n   <path d=\"M 0 349.287986 \nL 1688.4 349.287986 \nL 1688.4 0 \nL 0 0 \nz\n\" style=\"fill:none;\"/>\n  </g>\n  <g id=\"axes_1\">\n   <g clip-path=\"url(#paf0ddf9e4b)\">\n    <image height=\"28\" id=\"imagef4963d6014\" transform=\"matrix(5.071429 0 0 5.071429 7.2 22.182532)\" width=\"28\" xlink:href=\"data:image/png;base64,\niVBORw0KGgoAAAANSUhEUgAAABwAAAAcCAYAAAByDd+UAAAABHNCSVQICAgIfAhkiAAAAelJREFUSIntlrGq6kAQhifhCkIULFTSqA+gKfIQFlYWimJlYaMoVrEX7GysxNI2rY+gdkoafQEhjQGFgMZq1/9WZ7nee85xAyIcuAMLmZnd/9vd7E6iEBHojaa+E/Yf+KW1223inNP1eiXTNEOPR5hmGAZOpxMYY+CcYzKZhBofeoW9Xo8SiYTwHccJNT40MJfLPfj9fp90XQ+lIb0dzWYTt9sNjDGxpYwxOI6DVColqyMH03UdnHPRLpcLPM8T/n6/Rzwefx3QMAyxsuVyCdM0EY1GsVqtRDyfz78OOB6PhfBwOBTxQqGAzWYDxhhs234d0PM8MMbgui4ymcxDrtFoiMk805E6pZ1Oh5LJJBERzedzcl33IX8+n2VkiEjyWmiaRqqqkqIotF6vP+2jKAopikKWZX2r9Ut2Zvf7nYCvv2Tf5f60lxTvSqUing+Hw9P+T1/0brcTl7xYLD7kRqMRfN9/7aH5ODCfWTabpVgsRkRErVZLRu75Cm3bBgBwzlGr1RCJRKBpGqbTqag0QRDIlrfnQMuyxJYyxrBYLLDdbkXM932Uy2Wp+ywFrFarD8C/i/dsNpOFyVeawWDwDzAIAtTrddmiHQ6oqirS6TS63S6OxyMYYyiVSmFAICIoH9R32c/4a/tRwN9PTlD4HM6jSwAAAABJRU5ErkJggg==\"/>\n   </g>\n   <g id=\"text_1\">\n    <!-- 0 -->\n    <defs>\n     <path d=\"M 31.78125 66.40625 \nQ 24.171875 66.40625 20.328125 58.90625 \nQ 16.5 51.421875 16.5 36.375 \nQ 16.5 21.390625 20.328125 13.890625 \nQ 24.171875 6.390625 31.78125 6.390625 \nQ 39.453125 6.390625 43.28125 13.890625 \nQ 47.125 21.390625 47.125 36.375 \nQ 47.125 51.421875 43.28125 58.90625 \nQ 39.453125 66.40625 31.78125 66.40625 \nz\nM 31.78125 74.21875 \nQ 44.046875 74.21875 50.515625 64.515625 \nQ 56.984375 54.828125 56.984375 36.375 \nQ 56.984375 17.96875 50.515625 8.265625 \nQ 44.046875 -1.421875 31.78125 -1.421875 \nQ 19.53125 -1.421875 13.0625 8.265625 \nQ 6.59375 17.96875 6.59375 36.375 \nQ 6.59375 54.828125 13.0625 64.515625 \nQ 19.53125 74.21875 31.78125 74.21875 \nz\n\" id=\"DejaVuSans-48\"/>\n    </defs>\n    <g transform=\"translate(74.314703 16.318125)scale(0.12 -0.12)\">\n     <use xlink:href=\"#DejaVuSans-48\"/>\n    </g>\n   </g>\n  </g>\n  <g id=\"axes_2\">\n   <g clip-path=\"url(#p1007a29607)\">\n    <image height=\"28\" id=\"image8577ccb3e6\" transform=\"matrix(5.071429 0 0 5.071429 177.437288 22.182532)\" width=\"28\" xlink:href=\"data:image/png;base64,\niVBORw0KGgoAAAANSUhEUgAAABwAAAAcCAYAAAByDd+UAAAABHNCSVQICAgIfAhkiAAAAaRJREFUSInt1q/LwkAYB/C7wzDbokMEi1wyu6SsaDGJsDixWMUqYvfXH2GwG7UahpYFg1sWUbBYBJ3K17SXF15kN5kD4X3gKbfn+BwPz22jhBCQCINFiX0XmEgkSKvVIqZpklwuF2gvgqamadhsNjgcDhgMBojFYkH2i0OSJKHb7eJ+v6PdbkOW5cCHFQY551itVjBNE9lsFoyxdzAx0DAMOI6Der3+LiIOptNpXK9X5PP5MDB/kHOOxWIRFgbfa3G73UgqlSK6rvuVCofvqQqFAhzHwWQyQTKZ/GxLvZQkCc1mE7vdDrPZDJ1O57PX4neWSiWMx2O4rovRaBQUfr89qqpivV7jeDxC1/XPg16rt9stLMuKBiSEoFar4fF4IJPJ+NaG8nmKx+OEUkoopb61wqCmaS+fVatVIcwLobZVKhUUi8U/64qiwHVd2LYt+kIXA8vlMmzbBuf8Z02WZViWhcvlAlVVwx0aSimGwyHO5zN6vR7m8zn2+z1OpxMMwwgyZOLTyBhDo9HAdDrFcrlEv9+HoiiBJpp6alTxPX9t/+CreALsZDgW8VSxlAAAAABJRU5ErkJggg==\"/>\n   </g>\n   <g id=\"text_2\">\n    <!-- 5 -->\n    <defs>\n     <path d=\"M 10.796875 72.90625 \nL 49.515625 72.90625 \nL 49.515625 64.59375 \nL 19.828125 64.59375 \nL 19.828125 46.734375 \nQ 21.96875 47.46875 24.109375 47.828125 \nQ 26.265625 48.1875 28.421875 48.1875 \nQ 40.625 48.1875 47.75 41.5 \nQ 54.890625 34.8125 54.890625 23.390625 \nQ 54.890625 11.625 47.5625 5.09375 \nQ 40.234375 -1.421875 26.90625 -1.421875 \nQ 22.3125 -1.421875 17.546875 -0.640625 \nQ 12.796875 0.140625 7.71875 1.703125 \nL 7.71875 11.625 \nQ 12.109375 9.234375 16.796875 8.0625 \nQ 21.484375 6.890625 26.703125 6.890625 \nQ 35.15625 6.890625 40.078125 11.328125 \nQ 45.015625 15.765625 45.015625 23.390625 \nQ 45.015625 31 40.078125 35.4375 \nQ 35.15625 39.890625 26.703125 39.890625 \nQ 22.75 39.890625 18.8125 39.015625 \nQ 14.890625 38.140625 10.796875 36.28125 \nz\n\" id=\"DejaVuSans-53\"/>\n    </defs>\n    <g transform=\"translate(244.551992 16.318125)scale(0.12 -0.12)\">\n     <use xlink:href=\"#DejaVuSans-53\"/>\n    </g>\n   </g>\n  </g>\n  <g id=\"axes_3\">\n   <g clip-path=\"url(#p7d0b4e007d)\">\n    <image height=\"28\" id=\"image9d81ee8943\" transform=\"matrix(5.071429 0 0 5.071429 347.674576 22.182532)\" width=\"28\" xlink:href=\"data:image/png;base64,\niVBORw0KGgoAAAANSUhEUgAAABwAAAAcCAYAAAByDd+UAAAABHNCSVQICAgIfAhkiAAAAcRJREFUSIntlrHraWEYx78/nbA4m0QkUhbZlFGyy2CWP4HJ/2DBbhKzwSQLf4CYRMYjcdQhcQb1fO9w7zXc7nBeubq37rfe5a3P83mfp3N63y8AxAfj+qTsv/DvEvp8PvT7fQwGA0QiESWWqkvXdU6nU4oIRYTX65XJZNIpry6sVqtP2W63o4iwXq//GWEmk+HpdKKIsN1us9FoUEQ4HA7fL4xGozRNkyLCVqtFTdPYbDYpIqxUKu8V6rrOyWRCEeFsNqOmafT7/TwcDrQsi8Fg8L3CbDZLEaFhGM/i8Xj8uee0juPf4na7odvtIpfLYb/fAwAqlQoAYDQaOS0Dxx3+bi0WC4oIC4WCCveaLBaL0bZtWpbFcDj8/pH+Go/HA4/Hg8vlAsMwHHMvC0ulEgBgtVops8rjdLvdXK/XtCyL6XRalVcXplIpigi3260y+9JI8/k8AMC2bWX2JWEoFAIAjMdjaJqmzKuNxOXiZrN53hYKtwQB0NHxvF4visUiyuUyAoEAEonE95OSuN/v7+/weDxSREiSj8eDpmmy1+uxVqspfzSOOpzP5zifz1gul+h0Orjdbspd/czXD/PH8u+82l7NN+0WCTaFDDfqAAAAAElFTkSuQmCC\"/>\n   </g>\n   <g id=\"text_3\">\n    <!-- 9 -->\n    <defs>\n     <path d=\"M 10.984375 1.515625 \nL 10.984375 10.5 \nQ 14.703125 8.734375 18.5 7.8125 \nQ 22.3125 6.890625 25.984375 6.890625 \nQ 35.75 6.890625 40.890625 13.453125 \nQ 46.046875 20.015625 46.78125 33.40625 \nQ 43.953125 29.203125 39.59375 26.953125 \nQ 35.25 24.703125 29.984375 24.703125 \nQ 19.046875 24.703125 12.671875 31.3125 \nQ 6.296875 37.9375 6.296875 49.421875 \nQ 6.296875 60.640625 12.9375 67.421875 \nQ 19.578125 74.21875 30.609375 74.21875 \nQ 43.265625 74.21875 49.921875 64.515625 \nQ 56.59375 54.828125 56.59375 36.375 \nQ 56.59375 19.140625 48.40625 8.859375 \nQ 40.234375 -1.421875 26.421875 -1.421875 \nQ 22.703125 -1.421875 18.890625 -0.6875 \nQ 15.09375 0.046875 10.984375 1.515625 \nz\nM 30.609375 32.421875 \nQ 37.25 32.421875 41.125 36.953125 \nQ 45.015625 41.5 45.015625 49.421875 \nQ 45.015625 57.28125 41.125 61.84375 \nQ 37.25 66.40625 30.609375 66.40625 \nQ 23.96875 66.40625 20.09375 61.84375 \nQ 16.21875 57.28125 16.21875 49.421875 \nQ 16.21875 41.5 20.09375 36.953125 \nQ 23.96875 32.421875 30.609375 32.421875 \nz\n\" id=\"DejaVuSans-57\"/>\n    </defs>\n    <g transform=\"translate(414.78928 16.318125)scale(0.12 -0.12)\">\n     <use xlink:href=\"#DejaVuSans-57\"/>\n    </g>\n   </g>\n  </g>\n  <g id=\"axes_4\">\n   <g clip-path=\"url(#p77430ad0b2)\">\n    <image height=\"28\" id=\"image88ade5c43f\" transform=\"matrix(5.071429 0 0 5.071429 517.911864 22.182532)\" width=\"28\" xlink:href=\"data:image/png;base64,\niVBORw0KGgoAAAANSUhEUgAAABwAAAAcCAYAAAByDd+UAAAABHNCSVQICAgIfAhkiAAAAhNJREFUSInt1a+rKlEQB/B5j+ePRYOm5QajRpOCiII2wWIzWFQQDAaD2b9Bt1hERKtgECxGq0G0qLAi+ANBURQMhvH72pa366734oUH98DAwpkzn3POzrK/iAj0jeP3d2I/4A/4f4B/jCR5PB4aDAbkcrmIiGg0GtFgMNDMz2azJIoiSZJExWLxn3k8i0wmg+VyCWbG7XbD6XQCM4OZ8Xg8lGe1iMfjajW1MVEUIcsymBnX6xXJZBJutxvpdBrT6RTz+Ryz2UyJ6/WqYN1uF1ar9TXQ7XYrBXq93tObEAQBw+EQzIzj8QiXy6WaZ7hpNpuN5pzVaiVJkigYDNLpdKJUKkXr9VozX3UnFosF9XpdOWEoFNI8XSwWU/Kq1erTm9AEo9GoUqTdbsNut6vmhcNhHA4H3bynoNlsVt7HdruFx+NRXWyz2ZSuLRQKEARBD9MHa7UaLBaL6uJerwdmRqvV0upI41fqdDoRCAQ0C5VKJdzvdzAzcrmcUez5Z6EVkUgE9/sdAJDP519d/xomCAL2+z2YGbvd7uXNvgx2Oh2le71e73vBRCKBy+WC/X4PSZI+gxkH/X4/zuczmBmVSuWzmDHQ6XSi3+8rV+nz+d4HOhwOlMtlMDNWqxWi0ShMJtP7wI+PDywWCzAzxuMxHA7HVzB9sNFogJkhyzLS6fRXMf3f02QyISKiRqNBzWZTL113/AXkUOxcFJ/80gAAAABJRU5ErkJggg==\"/>\n   </g>\n   <g id=\"text_4\">\n    <!-- 7 -->\n    <defs>\n     <path d=\"M 8.203125 72.90625 \nL 55.078125 72.90625 \nL 55.078125 68.703125 \nL 28.609375 0 \nL 18.3125 0 \nL 43.21875 64.59375 \nL 8.203125 64.59375 \nz\n\" id=\"DejaVuSans-55\"/>\n    </defs>\n    <g transform=\"translate(585.026568 16.318125)scale(0.12 -0.12)\">\n     <use xlink:href=\"#DejaVuSans-55\"/>\n    </g>\n   </g>\n  </g>\n  <g id=\"axes_5\">\n   <g clip-path=\"url(#pbf8e69a052)\">\n    <image height=\"28\" id=\"image43b62163af\" transform=\"matrix(5.071429 0 0 5.071429 688.149153 22.182532)\" width=\"28\" xlink:href=\"data:image/png;base64,\niVBORw0KGgoAAAANSUhEUgAAABwAAAAcCAYAAAByDd+UAAAABHNCSVQICAgIfAhkiAAAAkdJREFUSIndlr9LMnEcx99eCLo6hIpr0nANHQ43JWLgoBIOCq7RVDi4NCk8jeLi4tJfoFsKTkINERwOQVMhIp5ExUFLDtfwPd/PpARPdmdKD/SGz3D3+dy97vv9/PieCwDxg5J+EvZfgBsA/jgJVFUVuq4jnU5je3sbiUQCT09PMAxjaSidWCaToRCCvV6PlmVRCMHRaERZlh09/8GcAw8PDynL8hwohODj4yPz+bxjoOMcBoNB7OzsoNPpAACOj49xcnICv9+Per2Ocrm83i1VVZWWZdGyLF5cXDAcDs99b29vvLm5We8KAYAkSKLRaKDf78/vl0ol+Hw+FIvF9a2wVqtxNBpxf3//U3+z2aRhGNzc3Fy9aFKpFCeTCU9PTxfGyLLMVqvFdru9OvD8/Jx3d3f0+/1fxuVyOVqWxWKx+H1gKpWiaZqMxWK2HxYKhWgYxmpATdNYqVQc95mu69Q07ftVGggE8PLyYhc21+3tLRRFQTKZ/NT/JTCXyyEUCjmGAYDL5YLb7YbX610eOOu72XSxk6qqiMfjeH9/x+vr6+L3LrJsNkshhKPc+Xw+Xl1dUQjBbrf7vaKZARVFsa3k5+fn+UCPRqMLY10z6iKNx2MMh0OcnZ1hMBhAURTs7e0BALa2tpBMJiFJEqbTKQAgk8mg3W5/ufW2Zf7xOBJC/HNtmiavr69ZKBTo8XhWmzS7u7t8eHhYCGy1Wjw6OnLcp7ZAADw4OOD9/f38xL+8vGS1WmUkEqEkScvA7HO4bv3+38TfD/wLyOF2IvXr058AAAAASUVORK5CYII=\"/>\n   </g>\n   <g id=\"text_5\">\n    <!-- 0 -->\n    <g transform=\"translate(755.263856 16.318125)scale(0.12 -0.12)\">\n     <use xlink:href=\"#DejaVuSans-48\"/>\n    </g>\n   </g>\n  </g>\n  <g id=\"axes_6\">\n   <g clip-path=\"url(#p2ed51f8b72)\">\n    <image height=\"28\" id=\"imagee13ba10e99\" transform=\"matrix(5.071429 0 0 5.071429 858.386441 22.182532)\" width=\"28\" xlink:href=\"data:image/png;base64,\niVBORw0KGgoAAAANSUhEUgAAABwAAAAcCAYAAAByDd+UAAAABHNCSVQICAgIfAhkiAAAAfRJREFUSIntlr+K6kAUxmcvFhYWIoJ2GawEC20lomCjpXYWgha2lmKXCGIX8Q20F3wD/5AHsLISYmXSB+0cTr6tEpSr2ejuFRbugWlyvswvh3xnznwwxsDeGH/eCfsPfBjJZJK1220GgBERUxTlqffxzIpGo2g0GhBCgIgghIBhGMhkMkH3eA62Wq0ghLgButBcLvezwGq16gF2ux0kSUI+n/eejUajnwPOZjOYpunBUqkUGGPgnHtAIQQ6nc73gYVCAQBARNhut4jFYjf5Wq2G0+kEIgIAlEql14HhcBjz+RxEhOPxCEmS7uparRZs2wYRoVgsvg6cTCaeQTRN89VOp1MQEcbj8WtAzjksy4IQApZlIZvN+gL7/T6ICKZpgnP+PFBVVc8MsiwHMpfbKoqiPAfknIOIvBXUza65HgFDzCccx/FL/xXxeJw5jsMulwuzbfuh7mGF1/0VpDrXNIZhPNT8k2nR6/V883e/JBKJYLFYBK4wnU5jv99D13UkEonX2mIwGAQyzbXuW0fbdR9uNhtUKhVEo1Ev32w2sV6vcTgcIITAcDgM8q/9Be5mbn8tl0uoqgpVVW/Gk6ZpXx4MgYDlchmmad5sfj0Pz+czut0uQqFQ0F79WiTL8l2gruuo1+tBQWCM4cOlvit+x63tVwE/AUhDJ7Oi3d1zAAAAAElFTkSuQmCC\"/>\n   </g>\n   <g id=\"text_6\">\n    <!-- 0 -->\n    <g transform=\"translate(925.501144 16.318125)scale(0.12 -0.12)\">\n     <use xlink:href=\"#DejaVuSans-48\"/>\n    </g>\n   </g>\n  </g>\n  <g id=\"axes_7\">\n   <g clip-path=\"url(#p3af0ec4848)\">\n    <image height=\"28\" id=\"image51473bafc7\" transform=\"matrix(5.071429 0 0 5.071429 1028.623729 22.182532)\" width=\"28\" xlink:href=\"data:image/png;base64,\niVBORw0KGgoAAAANSUhEUgAAABwAAAAcCAYAAAByDd+UAAAABHNCSVQICAgIfAhkiAAAAphJREFUSIntlsFLKlEUxs/ITMwixSBKEMKFGzdaERG0iNEWbYWWrVu7MFyIKLZOkv6BKAjKECIQsVy5bBNKZKsWERKJwoAGOcfvrbowz5fPN0bvLd6Bw8C9557ffGfOvXckIgJ9o9m+E/Yf+PeBs7OzFI1GqVKpUL/fJwCm5+PjI2UyGXI6nUPzYBR3u92o1WpgZuEPDw84PDxEo9Ewjd/f30PTtM9yjQZMp9Mi4e3tLRYWFjAxMQEigqqq0DQN2WwWr6+vYGZ0Oh0sLS1ZA05PT+Pl5UUADcPAyckJnE7nQKzP58PT0xOYGaenp9aALpcL3W7XVDZmRqvVgizLplibzYbLy0swMyqVivWSbm5uotPp4Pj4GLquC6iiKKa4cDgs5hKJhHUgESEWiyEQCCAajYqky8vLICJIkoR4PI7393cwM5rNJubn58cDfrgkSSiXy2BmlEolrK2tIZfLiZcoFouw2+3jdenPHolEBr6pYRgol8twOByfrrN00kiSRK1WyzRWr9dpY2ODQqEQ6bo+dP0fKdM0DVdXVwPqvF7vqDlGA01OTqJQKMAwDLGxc7kcer0emBk7OztfA5ybm8Pe3h6q1apQc3d3Jzrw7OwMzIxYLDY+0OPxIJ/PC1C73UYqlYKqqiImm82CmVGv18cHnp+fC1ij0cDi4uJAzMXFBZgZBwcH1oGyLKNQKICZ8fb2hmQyiampKVOMoijY398XR1wwGLQODAQCQlkmkxmY397exvX1tbiK/H7/yF0u0xDTdZ1ubm5oZmaGtra2iIhofX2dgsEgKYpChmHQ6urqwJ78nQ1V+Ct/fn7G7u4uVlZWRlY2tKSqqiKZTIqD+MOPjo4QDofhdrutgEBEkD6o32X/9l/bV9gPs8BsoSV1LbMAAAAASUVORK5CYII=\"/>\n   </g>\n   <g id=\"text_7\">\n    <!-- 8 -->\n    <defs>\n     <path d=\"M 31.78125 34.625 \nQ 24.75 34.625 20.71875 30.859375 \nQ 16.703125 27.09375 16.703125 20.515625 \nQ 16.703125 13.921875 20.71875 10.15625 \nQ 24.75 6.390625 31.78125 6.390625 \nQ 38.8125 6.390625 42.859375 10.171875 \nQ 46.921875 13.96875 46.921875 20.515625 \nQ 46.921875 27.09375 42.890625 30.859375 \nQ 38.875 34.625 31.78125 34.625 \nz\nM 21.921875 38.8125 \nQ 15.578125 40.375 12.03125 44.71875 \nQ 8.5 49.078125 8.5 55.328125 \nQ 8.5 64.0625 14.71875 69.140625 \nQ 20.953125 74.21875 31.78125 74.21875 \nQ 42.671875 74.21875 48.875 69.140625 \nQ 55.078125 64.0625 55.078125 55.328125 \nQ 55.078125 49.078125 51.53125 44.71875 \nQ 48 40.375 41.703125 38.8125 \nQ 48.828125 37.15625 52.796875 32.3125 \nQ 56.78125 27.484375 56.78125 20.515625 \nQ 56.78125 9.90625 50.3125 4.234375 \nQ 43.84375 -1.421875 31.78125 -1.421875 \nQ 19.734375 -1.421875 13.25 4.234375 \nQ 6.78125 9.90625 6.78125 20.515625 \nQ 6.78125 27.484375 10.78125 32.3125 \nQ 14.796875 37.15625 21.921875 38.8125 \nz\nM 18.3125 54.390625 \nQ 18.3125 48.734375 21.84375 45.5625 \nQ 25.390625 42.390625 31.78125 42.390625 \nQ 38.140625 42.390625 41.71875 45.5625 \nQ 45.3125 48.734375 45.3125 54.390625 \nQ 45.3125 60.0625 41.71875 63.234375 \nQ 38.140625 66.40625 31.78125 66.40625 \nQ 25.390625 66.40625 21.84375 63.234375 \nQ 18.3125 60.0625 18.3125 54.390625 \nz\n\" id=\"DejaVuSans-56\"/>\n    </defs>\n    <g transform=\"translate(1095.738432 16.318125)scale(0.12 -0.12)\">\n     <use xlink:href=\"#DejaVuSans-56\"/>\n    </g>\n   </g>\n  </g>\n  <g id=\"axes_8\">\n   <g clip-path=\"url(#p2e302090d7)\">\n    <image height=\"28\" id=\"imagee6c5051b94\" transform=\"matrix(5.071429 0 0 5.071429 1198.861017 22.182532)\" width=\"28\" xlink:href=\"data:image/png;base64,\niVBORw0KGgoAAAANSUhEUgAAABwAAAAcCAYAAAByDd+UAAAABHNCSVQICAgIfAhkiAAAAYhJREFUSInl1qGOwkAQBuDhjkCTBhoEvgJLwOFweHgE3gCBRDS8BanEYIDwAuUZaE1RJCjEJiQkdTP9T12DKS0trbjbZN1Mv93uTHYrRAQqcXyVif0P8JuIrE99LAxD0nWdjscjhWEYG4dPzPl8DhEBM6Pdbr+KzY+Zponb7QYRgeu60HW9ONAwDDiOA2aGiGA6nSbl5ANXqxWYGcyM3W6XtLt84Gw2QxAEEBEopdDtdhNzMreFYRg0GAyoXq8TANrv9+R5XqrcTLtbLpe4Xq9gZniel1SZ+X/p6XSKzs6yrHdy38cOh0PUc47joNlsFgNWq1WMRiMopQAA9/sdw+Hw3QWnD+73+zifz1HPbTYbaJpWDKhpWlQkzIzL5QLTNLOcf7pA27YjjJkxHo8zFVsqsNPp4PF4RNh6vc6KpQNd14WIQETg+z5arVZx4PO1o5RCr9fLg70Gn6+dIAiwWCzyYvFgrVaLCsX3fUwmk09g8WCj0cB2uwUzZ2nu2Fn5Vcsaf/+ZWDr4A7Kzu0yQYI9EAAAAAElFTkSuQmCC\"/>\n   </g>\n   <g id=\"text_8\">\n    <!-- 1 -->\n    <defs>\n     <path d=\"M 12.40625 8.296875 \nL 28.515625 8.296875 \nL 28.515625 63.921875 \nL 10.984375 60.40625 \nL 10.984375 69.390625 \nL 28.421875 72.90625 \nL 38.28125 72.90625 \nL 38.28125 8.296875 \nL 54.390625 8.296875 \nL 54.390625 0 \nL 12.40625 0 \nz\n\" id=\"DejaVuSans-49\"/>\n    </defs>\n    <g transform=\"translate(1265.97572 16.318125)scale(0.12 -0.12)\">\n     <use xlink:href=\"#DejaVuSans-49\"/>\n    </g>\n   </g>\n  </g>\n  <g id=\"axes_9\">\n   <g clip-path=\"url(#pbb5a8d701e)\">\n    <image height=\"28\" id=\"image3f5edc1501\" transform=\"matrix(5.071429 0 0 5.071429 1369.098305 22.182532)\" width=\"28\" xlink:href=\"data:image/png;base64,\niVBORw0KGgoAAAANSUhEUgAAABwAAAAcCAYAAAByDd+UAAAABHNCSVQICAgIfAhkiAAAAqZJREFUSIntVkFLKlEU/mZUGGPIcKNIkUYJQoQgBCoEBQVBf6BNmzYtq0UQFLhq4y43LVq5aBdDi4rAnUSb3CQ0FgRC4EIiomgo9fq1eLzhlZPO80U8Hu/Agcu5Z853zrnfnHslAMQ3ivydYP8B/yywLCOZTCIcDrfs8Su1t7eX4+PjPDs7oxCCNzc3H33sB1tYWGAwGKQkSe/sXq+XExMT3N7e5tPTE4UQph4eHnYHODk5ScMwKITgxsYGV1dXeXp6ynw+z/v7+3cgQghqmsb5+fmW5GwDzs3NtQRtNpvmulqtslgsMpVKMRqN0uVyWcaRfqJ2EkVRoGkaZmZmTFuhUMDBwQEAYH9/H6VSyU4o+2dYLBYphODa2hqDwWC3xLLnuLe3x1qtRl3X6fF4umaxrf9QVVUkEgk4HA7s7OxgcHAQs7OzttpnJR2zWl9fN8nx+vrKWq1GIQQNw+DDwwN3d3fp9Xq/rqWZTIbNZrNFSZrrq6srW+fqAJDq1IJ8Po9YLIb+/n48Pj6iXC5jc3MThUIB6XQaLpcL8XgckiQhl8uBbE982wceiUQs7YqiUNd13t3d0e/3d0caWZahqioGBgZMm67rlr6NRgPX19dQFAWhUKhtdZaAo6OjODo6wvHxMRYXF9sGAIBAIIBEIgG32w2fz9fRv6VsTdMohODLywuTyeSn7QmFQkyn06xUKhRC8Pn5mWNjY21b6rTKwOPx/ChflpHNZlEqlXB5eYmTkxOMjIxgaGgIALC0tISenh7zu62tLVxcXPx+hVNTU6xWqy3D+rPhbRgGV1ZWPh3YH9R6Q1VVLi8vm/PTSm9vb5nJZDg8PGyb6R1vC6fTienpafT19QEAKpUKAoEAzs/PUS6XUa/XO7bwV7F9PX2V/Duvtr8G8A0r4Ji0uzxlDAAAAABJRU5ErkJggg==\"/>\n   </g>\n   <g id=\"text_9\">\n    <!-- 5 -->\n    <g transform=\"translate(1436.213008 16.318125)scale(0.12 -0.12)\">\n     <use xlink:href=\"#DejaVuSans-53\"/>\n    </g>\n   </g>\n  </g>\n  <g id=\"axes_10\">\n   <g clip-path=\"url(#pecd77ea943)\">\n    <image height=\"28\" id=\"image2bc8d1fdfe\" transform=\"matrix(5.071429 0 0 5.071429 1539.335593 22.182532)\" width=\"28\" xlink:href=\"data:image/png;base64,\niVBORw0KGgoAAAANSUhEUgAAABwAAAAcCAYAAAByDd+UAAAABHNCSVQICAgIfAhkiAAAAVtJREFUSIntlr2OgkAUhQ8LhGAoDLGlsRoSEgmtJYWVlYkxUFHS8iSEJ7Gz5wEwsaCjopCCxsRCC3O32Gzh6rLjrEu28CTTzJmTb+5k/iQAhB711ifsBfyfQMYYiAhRFHFnSLTFcUzn85mqqiJJkrgyP1bIGMNwOLzrzWYzKIryMWviP13fziYMQzocDpTnOZmmeeW5rkun04kulwtVVcW9Kp0VapoGwzAwnU6RpumVp6oqVFUFAFiWhdVqxVUd96axbRumad71ZFmGruvPBXqeh/l8DgAYjUbwfZ83eiXlkcFZliFJEgwGA4zH478HGoYBx3GEQJ/qXNL9fo+yLH8F+KrOCjebDbbbLWzbvvHiOMZisXguEACapkHTNDf9x+NRCCh8lwZBIJQTBjLG+gWKShi4Xq/7BRZF0S9QVMLAuq6FLwXhF3+5XNJut6O2bWkymXBlJLw+wk/WO7htqH4znjctAAAAAElFTkSuQmCC\"/>\n   </g>\n   <g id=\"text_10\">\n    <!-- 4 -->\n    <defs>\n     <path d=\"M 37.796875 64.3125 \nL 12.890625 25.390625 \nL 37.796875 25.390625 \nz\nM 35.203125 72.90625 \nL 47.609375 72.90625 \nL 47.609375 25.390625 \nL 58.015625 25.390625 \nL 58.015625 17.1875 \nL 47.609375 17.1875 \nL 47.609375 0 \nL 37.796875 0 \nL 37.796875 17.1875 \nL 4.890625 17.1875 \nL 4.890625 26.703125 \nz\n\" id=\"DejaVuSans-52\"/>\n    </defs>\n    <g transform=\"translate(1606.450297 16.318125)scale(0.12 -0.12)\">\n     <use xlink:href=\"#DejaVuSans-52\"/>\n    </g>\n   </g>\n  </g>\n  <g id=\"axes_11\">\n   <g clip-path=\"url(#p44806629a7)\">\n    <image height=\"28\" id=\"imaged4530a1356\" transform=\"matrix(5.071429 0 0 5.071429 7.2 200.087986)\" width=\"28\" xlink:href=\"data:image/png;base64,\niVBORw0KGgoAAAANSUhEUgAAABwAAAAcCAYAAAByDd+UAAAABHNCSVQICAgIfAhkiAAAAf9JREFUSIntlrGq6kAQhicBQRDBQiWN2tmoiA+hYGWhKFYWNopiFXvRzsbSV7Cw8RHUTkmjnZVoY8BCiLHa9T/VWa7n3GM2XBEO3IWFzEzyf5nZzBCFiEBvXOo7Yf+BP65Go0Gcc7per5TJZFw/j2fb7/c/2KlUCufzGYwxcM4xGo2ePv91O2ZoWdaD3W63KRAICNswDFfZuS5pLBZ7sDudDmma5kpDuhy1Wg232w2MMVFSxhgMw0AoFJLVkYNpmgbOOTjnAADLsmCapvBtt9tv5/1PwFQqJTKbz+fIZDLwer1YLBbCn0gkXgccDodCuNfrCX8ymcRqtQJjDJPJ5HVA0zQBAMfjEZFIBP1+X8Sq1ap4mZcAm82m+ED+BH3uXC4nDZRqC5/PR6qqkqIotFwu/3qPoiikKArpuv5US7oP7/c7AaDpdEpERPF4/CEOgAA46rhu/FKpREREu91O+IrForje7/eOGo5132w24gyz2exDbDAYIJ1Ov/YMg8Hgj7FoNCrmab1el5FzznAymQAAOOcol8vweDw4HA643+9i0ti2LTvenIG6rouSMsYwm82wXq+F73K5oFAoSPWzFLBUKsEwDAH8OrzH47EsTH7SdLvdb0DbtlGpVGSHtjugqqoIh8NotVo4nU5gjCGfz7sBgYigfFLftX7HX9uvAn4A2oqEPPsX0F8AAAAASUVORK5CYII=\"/>\n   </g>\n   <g id=\"text_11\">\n    <!-- 8 -->\n    <g transform=\"translate(74.314703 194.22358)scale(0.12 -0.12)\">\n     <use xlink:href=\"#DejaVuSans-56\"/>\n    </g>\n   </g>\n  </g>\n  <g id=\"axes_12\">\n   <g clip-path=\"url(#p2a011be7ef)\">\n    <image height=\"28\" id=\"imagedfa113a30e\" transform=\"matrix(5.071429 0 0 5.071429 177.437288 200.087986)\" width=\"28\" xlink:href=\"data:image/png;base64,\niVBORw0KGgoAAAANSUhEUgAAABwAAAAcCAYAAAByDd+UAAAABHNCSVQICAgIfAhkiAAAAcNJREFUSIntlr+q6kAQxmfFIqmMYKGIYKOLhbWpImm0sU+p+ASSVsRe1IcQ8R20tQiIkMJCA3YiClpoIf7nu5Vy4J5zXSUKB+4HA8vO7P5mhl12GRGBPijPJ2G/CxgMBsk0TbIsi1Kp1FNr8azpuo7xeIzlcol6vQ6v1/vMenGQJEmoVqu4XC4ol8tQFOXpZIWBnHMMBgNYloVkMgmPx/MKTAyYz+fhOA6KxeKrEHFgNBrF8XiEpmluwB4DOefo9/sPNwoEAkLAb6+Fpmn38fl8pkgkQoZhfBd613q9/qf/qx5mlU6n4TgOOp0OwuHwe1t6M0mSUCqVMJ/P0e12UalU3nstvlo2m0Wr1cLpdEKz2XwW/Hp7VFXFaDTCarWCYRjvB95aPZvNYNv2Z4BEhEKhgOv1ilgs9jDWledJlmVijBFjTCheqApd13/0ybIMAIjH4+5V6Pf7KZPJ/DUfCoVou92S4zg0nU7dqzCXy2EymYBzfp9TFAW2beNwOEBVVXcPDWMMjUYDu90OtVoNvV4Pi8UCm80GsiwLHzDhlgKg4XBIpmkS55x8Ph+1221KJBK03+9FtyF2K/NT+j2/tv/An/QHoYEoOkyFNIYAAAAASUVORK5CYII=\"/>\n   </g>\n   <g id=\"text_12\">\n    <!-- 3 -->\n    <defs>\n     <path d=\"M 40.578125 39.3125 \nQ 47.65625 37.796875 51.625 33 \nQ 55.609375 28.21875 55.609375 21.1875 \nQ 55.609375 10.40625 48.1875 4.484375 \nQ 40.765625 -1.421875 27.09375 -1.421875 \nQ 22.515625 -1.421875 17.65625 -0.515625 \nQ 12.796875 0.390625 7.625 2.203125 \nL 7.625 11.71875 \nQ 11.71875 9.328125 16.59375 8.109375 \nQ 21.484375 6.890625 26.8125 6.890625 \nQ 36.078125 6.890625 40.9375 10.546875 \nQ 45.796875 14.203125 45.796875 21.1875 \nQ 45.796875 27.640625 41.28125 31.265625 \nQ 36.765625 34.90625 28.71875 34.90625 \nL 20.21875 34.90625 \nL 20.21875 43.015625 \nL 29.109375 43.015625 \nQ 36.375 43.015625 40.234375 45.921875 \nQ 44.09375 48.828125 44.09375 54.296875 \nQ 44.09375 59.90625 40.109375 62.90625 \nQ 36.140625 65.921875 28.71875 65.921875 \nQ 24.65625 65.921875 20.015625 65.03125 \nQ 15.375 64.15625 9.8125 62.3125 \nL 9.8125 71.09375 \nQ 15.4375 72.65625 20.34375 73.4375 \nQ 25.25 74.21875 29.59375 74.21875 \nQ 40.828125 74.21875 47.359375 69.109375 \nQ 53.90625 64.015625 53.90625 55.328125 \nQ 53.90625 49.265625 50.4375 45.09375 \nQ 46.96875 40.921875 40.578125 39.3125 \nz\n\" id=\"DejaVuSans-51\"/>\n    </defs>\n    <g transform=\"translate(244.551992 194.22358)scale(0.12 -0.12)\">\n     <use xlink:href=\"#DejaVuSans-51\"/>\n    </g>\n   </g>\n  </g>\n  <g id=\"axes_13\">\n   <g clip-path=\"url(#p28d7cc443a)\">\n    <image height=\"28\" id=\"imagefb28331de9\" transform=\"matrix(5.071429 0 0 5.071429 347.674576 200.087986)\" width=\"28\" xlink:href=\"data:image/png;base64,\niVBORw0KGgoAAAANSUhEUgAAABwAAAAcCAYAAAByDd+UAAAABHNCSVQICAgIfAhkiAAAAcRJREFUSIntlrHraWEYx78/nbA4m0QkUhbZlFGyy2CWP4HJ/2DBbhKzwSQLf4CYRMYjcdQhcQb1fO9w7zXc7nBeubq37rfe5a3P83mfp3N63y8AxAfj+qTsv/DvEvp8PvT7fQwGA0QiESWWqkvXdU6nU4oIRYTX65XJZNIpry6sVqtP2W63o4iwXq//GWEmk+HpdKKIsN1us9FoUEQ4HA7fL4xGozRNkyLCVqtFTdPYbDYpIqxUKu8V6rrOyWRCEeFsNqOmafT7/TwcDrQsi8Fg8L3CbDZLEaFhGM/i8Xj8uee0juPf4na7odvtIpfLYb/fAwAqlQoAYDQaOS0Dxx3+bi0WC4oIC4WCCveaLBaL0bZtWpbFcDj8/pH+Go/HA4/Hg8vlAsMwHHMvC0ulEgBgtVops8rjdLvdXK/XtCyL6XRalVcXplIpigi3260y+9JI8/k8AMC2bWX2JWEoFAIAjMdjaJqmzKuNxOXiZrN53hYKtwQB0NHxvF4visUiyuUyAoEAEonE95OSuN/v7+/weDxSREiSj8eDpmmy1+uxVqspfzSOOpzP5zifz1gul+h0Orjdbspd/czXD/PH8u+82l7NN+0WCTaFDDfqAAAAAElFTkSuQmCC\"/>\n   </g>\n   <g id=\"text_13\">\n    <!-- 9 -->\n    <g transform=\"translate(414.78928 194.22358)scale(0.12 -0.12)\">\n     <use xlink:href=\"#DejaVuSans-57\"/>\n    </g>\n   </g>\n  </g>\n  <g id=\"axes_14\">\n   <g clip-path=\"url(#pe35ca23fba)\">\n    <image height=\"28\" id=\"image56a73da3e9\" transform=\"matrix(5.071429 0 0 5.071429 517.911864 200.087986)\" width=\"28\" xlink:href=\"data:image/png;base64,\niVBORw0KGgoAAAANSUhEUgAAABwAAAAcCAYAAAByDd+UAAAABHNCSVQICAgIfAhkiAAAAkFJREFUSIntlb9rIlEQx+eOM+6ihRYiKQQRtLSKEERBO8HGzsJmTSEWFha2CvkPoo1FJARtBQvBxtLWIsQiKhgCYlhQFAULxfF73XKg6/qDBA7yYODBfPZ95s3Osr+ICPSN6/d3yn6EP8L/Q/jnGMjlclGz2SSbzUZERO12m5rNpip/d3dHVquVCoUCpdPpnTwORTwex/v7O5gZy+US0+kUzAxmxna7Vfb7IhwO7ztTXWa1WjEYDMDMWCwWiEajcDqdkCQJnU4HvV4Pj4+P6Ha76Ha7WCwWiEQiYGbUajUIgnCa0Ol0KtXW6/WDnRBFEa1WC8yMyWQCm822lztqaNbrNb29vanmBUGgQqFAXq+XptMpxWIxGg6HqvzeSnQ6HUqlEu7v78HM8Pl8ICI4HI4dNhQKKZ3I5/MHO6EqDAaDyiGVSgVGo3Ev5/f7MR6PNbmDwqurK+V9jEYjuFwuJed2u5W9wWBQpjaVSkEURS2ZtrBYLEKv18Nut+9w9XodzIxyuQxBEBCNRs8TEhHMZjNub2/VRhuZTAar1QrMfOzNtD8LtQgEAlitVgCAZDJ56vOnyURRhCzLYGZ8fn6eXOzJwmq1qkzvvwP0JcJIJIL5fA5ZlrHZbM6RHS/0eDyYzWZgZjw8PJwrO05oNpvRaDSUVt7c3Hyd0GQyIZfLgZnx8fGBYDAInU6nymez2cuE19fX6Pf7YGa8vLzAZDJdcjtt4dPTE5gZFosFkiRdKtP+Pb2+vhIRUSKRoOfnZy1cc/0F/frr4ZE1a0kAAAAASUVORK5CYII=\"/>\n   </g>\n   <g id=\"text_14\">\n    <!-- 9 -->\n    <g transform=\"translate(585.026568 194.22358)scale(0.12 -0.12)\">\n     <use xlink:href=\"#DejaVuSans-57\"/>\n    </g>\n   </g>\n  </g>\n  <g id=\"axes_15\">\n   <g clip-path=\"url(#p7f8a5948f2)\">\n    <image height=\"28\" id=\"image4ed1516633\" transform=\"matrix(5.071429 0 0 5.071429 688.149153 200.087986)\" width=\"28\" xlink:href=\"data:image/png;base64,\niVBORw0KGgoAAAANSUhEUgAAABwAAAAcCAYAAAByDd+UAAAABHNCSVQICAgIfAhkiAAAAmxJREFUSIndlr9LcmEUx7/e18A2CRIN10TwNnRpuC5lIDiYiIORg0u4VCT0H7yN4eySf0C0peAk6CCBNARONYioSIniUoMOz+37Tl0Kf91SeqEDD5znnHPPh3vO85x7TQCIHxTpJ2H/BfgHwF8jgaqqotlsIhQKwe12IxAI4OnpCd1u98tQGlmRSIRCCN7d3VHTNAoh2Gg0KMuyoec/LOPAw8NDyrKsA4UQbLfbjMVi9Hq9hvIY7uHa2ho2NjaQz+cBAMfHxzg5OYHdbkc6nYbf719sSVVVpaZp1DSNNzc3dLlcuu/l5YW3t7f63mq1zl9SAHoZDw4OPtmTySQB8OzsbHE9dDgcbDQa9Pv9Y/3X19fsdru02WzzA/f29vj6+jo1RpZlZrNZ5nK5+YGXl5esVqu02+0EQI/HMzZuf3+fmqbNKu3stxsMBtzd3R3rz2Qyuu50Ounz+RiPx78PrFQqvLi4MHywms0mK5XKRP/Me+hwONDpdKbG9Ho9Xb+/v4eiKAgGg2NjZwKdTudYu8lk0vXV1VVd9/l8WFpawvLy8teB0WgUJPXp8lFIjthUVYXZbMZwOES/35+Yd2K9o9EohRCGereyssJSqUQhBAuFwvcOzTtQUZRP9qurq5GT/Pz8rE+inZ2diTlN79RJ0mq1UK/XcX5+jlqtBkVRsL29DQBYX19HMBiEJEl4e3sDAEQiEeRyuWkpp5fq6Ojo0+dICDGyHwwGLJfLPD09pcVimW/SbG5u8vHxcSIwm80ykUgYvqczgQAYDof58PBAIQRVVWWxWGQqleLW1hYlSfoKbHYPFy2//zfx9wP/AQJnjWxXlPA4AAAAAElFTkSuQmCC\"/>\n   </g>\n   <g id=\"text_15\">\n    <!-- 6 -->\n    <defs>\n     <path d=\"M 33.015625 40.375 \nQ 26.375 40.375 22.484375 35.828125 \nQ 18.609375 31.296875 18.609375 23.390625 \nQ 18.609375 15.53125 22.484375 10.953125 \nQ 26.375 6.390625 33.015625 6.390625 \nQ 39.65625 6.390625 43.53125 10.953125 \nQ 47.40625 15.53125 47.40625 23.390625 \nQ 47.40625 31.296875 43.53125 35.828125 \nQ 39.65625 40.375 33.015625 40.375 \nz\nM 52.59375 71.296875 \nL 52.59375 62.3125 \nQ 48.875 64.0625 45.09375 64.984375 \nQ 41.3125 65.921875 37.59375 65.921875 \nQ 27.828125 65.921875 22.671875 59.328125 \nQ 17.53125 52.734375 16.796875 39.40625 \nQ 19.671875 43.65625 24.015625 45.921875 \nQ 28.375 48.1875 33.59375 48.1875 \nQ 44.578125 48.1875 50.953125 41.515625 \nQ 57.328125 34.859375 57.328125 23.390625 \nQ 57.328125 12.15625 50.6875 5.359375 \nQ 44.046875 -1.421875 33.015625 -1.421875 \nQ 20.359375 -1.421875 13.671875 8.265625 \nQ 6.984375 17.96875 6.984375 36.375 \nQ 6.984375 53.65625 15.1875 63.9375 \nQ 23.390625 74.21875 37.203125 74.21875 \nQ 40.921875 74.21875 44.703125 73.484375 \nQ 48.484375 72.75 52.59375 71.296875 \nz\n\" id=\"DejaVuSans-54\"/>\n    </defs>\n    <g transform=\"translate(755.263856 194.22358)scale(0.12 -0.12)\">\n     <use xlink:href=\"#DejaVuSans-54\"/>\n    </g>\n   </g>\n  </g>\n  <g id=\"axes_16\">\n   <g clip-path=\"url(#pedd4a0c48c)\">\n    <image height=\"28\" id=\"imageee713a352a\" transform=\"matrix(5.071429 0 0 5.071429 858.386441 200.087986)\" width=\"28\" xlink:href=\"data:image/png;base64,\niVBORw0KGgoAAAANSUhEUgAAABwAAAAcCAYAAAByDd+UAAAABHNCSVQICAgIfAhkiAAAAlxJREFUSIntljFo6mAQx68i1KGDuGgnQ+mgOGjBRSxUXOok7eZQsIMiDg4duxhB3Cydu5RuQsfOWsngIkgHh1LQqcledHA4Lv83GSovalSe0zs4+ML9c7/c8d335YCIQHs01z5h/4GWnZ2dLTwHAgG6vb0lACQiVK1WN4JiE/d6vcjlcmBmiAiYGaPRCJFIxGmOzWCdTgfMvACcQ2Ox2O7Aj48Pa53JZMDMME0Tw+EQwWAQiUTCgjYajb/ev7+/375CXdfBzBgOhzg5OQERQVEUC8jMKBQKu7f0/PwcACAiGAwG8Pl8KBaLVvzq6gqTyQQiAgC4uLjYHujxePD6+goRwff3N4LBoK0un8/j5+cHIgIR2R74+PhobZBms7lS+/z8DBHBw8PDdkBFUWAYBpgZhmEgGo3a6u7u7kBEeHl5gYhA13UoirI5UFVVmKYJZkYymVxZ3dvbG4jIGpVqtWqrc9MSM02TABAAcrlc1Ov1lkmJiCibzRIRkcu1/vBa2s7f231VdXNvNBrodDqYzWYIh8O2mo0P71KptDR2fHxMqVSKDMOgz89PW83GwKenp7Wa09PTlXHb0o+OjkBEti1ttVrWulargYgQCoXw9fUFTdPg9/udj0W/319I5mCQF3Q7HW2KoqBcLoOZ0e12cXl5Ca/Xa8Vvbm7w/v6O8XgMZka9XneyuVYL5snm89Vut6GqKlRVXbiems0mDg8Pdwem02nour6Q/Pd9OJ1OUalU4Ha7HY3OWiARIZlM2gI1TcP19bVTkHPgOo/H4/8OGAgEdvq4gzl1X7b3/9I/4UdH7gBzptYAAAAASUVORK5CYII=\"/>\n   </g>\n   <g id=\"text_16\">\n    <!-- 9 -->\n    <g transform=\"translate(925.501144 194.22358)scale(0.12 -0.12)\">\n     <use xlink:href=\"#DejaVuSans-57\"/>\n    </g>\n   </g>\n  </g>\n  <g id=\"axes_17\">\n   <g clip-path=\"url(#p0376e5ca95)\">\n    <image height=\"28\" id=\"image844c621303\" transform=\"matrix(5.071429 0 0 5.071429 1028.623729 200.087986)\" width=\"28\" xlink:href=\"data:image/png;base64,\niVBORw0KGgoAAAANSUhEUgAAABwAAAAcCAYAAAByDd+UAAAABHNCSVQICAgIfAhkiAAAAqFJREFUSIntlkFIKlEUhs/ITMyiwiAyEKJFmzZpEREUxJiLtkKLFq5dtzBcSCi5VpJoHwmCGUEEEqUrl+1qoa1chJgYBgMa1Bz/Vl2Y58tnY/Te4h04DNx77vnmP3PuvSMREegHzfaTsP/Avw90OBwUDAapWCxSp9MhAKZnpVKhRCJBdru9Zx70406nE3d3d2Bm4ff39zg6OkKtVjONl0olaJr2Wa7+gHt7eyJhp9PB/Pw8hoaGQERQVRWapiGZTKLRaICZ0Wq1sLi4aA04Pj6Oer0ugIZhIJ1Ow263d8XOzs7i4eEBzIxMJvN14NbWFg4PD9Fut01lY2Y0m03IsmyKt9lsuLi4ADOjWCxaL+nm5iZarRZSqRR0XRdQRVFMcT6fT8zt7u5aBxIRQqEQXC4XgsGgSLq0tAQigiRJCIfDeH19BTPj6ekJbrd7MOCHS5KEQqEAZsbV1RXW1taQzWbFS1xeXmJkZGSwLv3Vt7e3u76pYRgoFAoYHR39dJ2lk0aSJGo2m6axcrlMGxsbtL6+Trqu91z/JWWapuH6+lqoenx8BDNjZmam3xz9gYaHh5HL5WAYhtjY2WwWb29vYGbs7Ox8D3BqagrxeBy3t7dC1erqqujAk5MTMDNCodDgwOnpaZydnQnQ8/MzotEoVFUVMclkEsyMycnJwYGnp6cCVqvVsLCw0BVzfn4OZsbBwYF1oCzLyOVyYGa8vLwgEolgbGzMFKMoCvb398UR5/F4rANdLpdQlkgkuuYDgQDy+by4iubm5vrucpl6mK7rdHNzQxMTE+T3+4mIyOv1ksfjIUVRyDAMWllZ6dqTf7KeCn/n1WoVsVgMy8vLfSvrWVJVVRGJRMRB/OHHx8fw+XxwOp1WQCAiSB/Un7J/+6/tO+wdNYZrYJ+ZyBsAAAAASUVORK5CYII=\"/>\n   </g>\n   <g id=\"text_17\">\n    <!-- 2 -->\n    <defs>\n     <path d=\"M 19.1875 8.296875 \nL 53.609375 8.296875 \nL 53.609375 0 \nL 7.328125 0 \nL 7.328125 8.296875 \nQ 12.9375 14.109375 22.625 23.890625 \nQ 32.328125 33.6875 34.8125 36.53125 \nQ 39.546875 41.84375 41.421875 45.53125 \nQ 43.3125 49.21875 43.3125 52.78125 \nQ 43.3125 58.59375 39.234375 62.25 \nQ 35.15625 65.921875 28.609375 65.921875 \nQ 23.96875 65.921875 18.8125 64.3125 \nQ 13.671875 62.703125 7.8125 59.421875 \nL 7.8125 69.390625 \nQ 13.765625 71.78125 18.9375 73 \nQ 24.125 74.21875 28.421875 74.21875 \nQ 39.75 74.21875 46.484375 68.546875 \nQ 53.21875 62.890625 53.21875 53.421875 \nQ 53.21875 48.921875 51.53125 44.890625 \nQ 49.859375 40.875 45.40625 35.40625 \nQ 44.1875 33.984375 37.640625 27.21875 \nQ 31.109375 20.453125 19.1875 8.296875 \nz\n\" id=\"DejaVuSans-50\"/>\n    </defs>\n    <g transform=\"translate(1095.738432 194.22358)scale(0.12 -0.12)\">\n     <use xlink:href=\"#DejaVuSans-50\"/>\n    </g>\n   </g>\n  </g>\n  <g id=\"axes_18\">\n   <g clip-path=\"url(#p0f33acdff1)\">\n    <image height=\"28\" id=\"image81aebee6ca\" transform=\"matrix(5.071429 0 0 5.071429 1198.861017 200.087986)\" width=\"28\" xlink:href=\"data:image/png;base64,\niVBORw0KGgoAAAANSUhEUgAAABwAAAAcCAYAAAByDd+UAAAABHNCSVQICAgIfAhkiAAAAdpJREFUSInllrGq4lAQhsddESFosLBPYSv6Agab2InaC2JpZ2EjWCxpfQJJKaggEXyBWNtGBK0EK4uAIAgWZ/Jvsdxw3Xv1JrlqsXtgIGeYmY85558kESICvXD9eCXs/wD+JKJfjyrmui5JkkSLxYJc170ZhyDWarU+9Xc6HTAzhBBIp9OePxKJ/B0bDPhmmqZ5z4qiAACYGbZtQ5Kke7n+IaVS6YNPlmVYlgUhBJgZzWbzqzrBOisWi1f7wWAAIQSEEJjNZl91FwzY7Xav9u12G7qug5nhOA6y2ayfOuHuUJZljMdjCCGgqioMw/CbGw6o6zr2+z2EEFitVlfKvGehB79SqdByuSQiItM0qVAo+M713VW5XAYRYT6fezNnWRaSyWSQ0/EPjEaj0DQNl8sFAHA8HqGqatDr8B+cz+ex3W69mZtMJhiNRs8BxuNx1Ot17yh3ux0URQkjOH+BhmF4Ay6EQLVaxXq9fg4wk8ngdDp5sOFwCCJCo9F4DtC2bTAzmBnT6RSpVCoMyB/w/WfHcRzkcrnvwO4DFUXB4XAAM+N8PqPX630XdhsYi8U8oWw2G9RqtUfAbgMTiQRM0/Rezg+C+RPNe+v3+yD6o9wwwMgb9VXr3/8v/Q0tEdz+qdCzugAAAABJRU5ErkJggg==\"/>\n   </g>\n   <g id=\"text_18\">\n    <!-- 2 -->\n    <g transform=\"translate(1265.97572 194.22358)scale(0.12 -0.12)\">\n     <use xlink:href=\"#DejaVuSans-50\"/>\n    </g>\n   </g>\n  </g>\n  <g id=\"axes_19\">\n   <g clip-path=\"url(#pfb82b8abba)\">\n    <image height=\"28\" id=\"image5d8718c77e\" transform=\"matrix(5.071429 0 0 5.071429 1369.098305 200.087986)\" width=\"28\" xlink:href=\"data:image/png;base64,\niVBORw0KGgoAAAANSUhEUgAAABwAAAAcCAYAAAByDd+UAAAABHNCSVQICAgIfAhkiAAAArRJREFUSIntVr9LI1EQ/jYmECUYCAQlKkTxB0IIiiBsBMEUASH/gI0Waez8UQiCYkCwSWdaKysLZUmjCHZBbExjIImFsBBIEUUk6iIrL98Vh8vpJu5eTuQ4buCDx+y8+ebNDDMrASC+URzfSfaf8M8cOxzQdR3Dw8Omb7TC+Pi4pc0bOjs7OTk5yYuLCwoheHNz89HGniMAnJ+fZzAYpCRJ7/Q+n4/T09Pc3d3l4+MjhRAGRkZGWiOcmZmhpmkUQnBjY4Orq6s8Pz9nNpvl/f39OxIhBBVF4dzcnCk424TxeNzktF6vG+dqtcp8Ps9kMsmxsTG6XK6GfqQ3Vitxu91QFAWxWMzQ5XI5ZDIZAMDR0RFKpZIdV/ZrmM/nKYTg2toag8Gg7XstpRQAdV3n7e0tvV4vAXB7e5sAuLCw8LWEHo+HqqpSCMGlpSWGw2HOzs42tPX7/cZ5a2urNcL19XWjOQ4ODqjrOmVZpqZpfHh44N7eHn0+39e9MJ1Os16vm0DSOF9fX9uqaxuAZJNmMiSbzWJiYgK9vb2o1WpQVRWbm5vI5XJIpVJwuVyQZRmSJOHs7Azk541vu+Cjo6Mm3eHhId1uN4vFIu/u7tjd3d1aSh0OBz0eD/v6+iwDcTqdzGQyfHp6oizLn9o23BahUAjHx8c4OTlBIpGwyjgCgQAikQja29vR1dVlaW+KQlEUCiH48vLCqampptH29/czlUqxUqlQCMHn52eGw+HPs9EoAq/XC+DnTtvf30epVEKhUMDp6SmGhoYwMDAAAFhcXERHR4dxb2dnB1dXV7//wmg0ymq1ahrWzYa3pmlcWVlpOrA/oPl0WV5eNuZnI5TLZabTaQ4ODtrudMtt4XQ6EYlE0NPTAwCoVCoIBAK4vLyEqqp4fX21TOGvYns9fZX8O39tfw3hD7di1MV1WVBoAAAAAElFTkSuQmCC\"/>\n   </g>\n   <g id=\"text_19\">\n    <!-- 3 -->\n    <g transform=\"translate(1436.213008 194.22358)scale(0.12 -0.12)\">\n     <use xlink:href=\"#DejaVuSans-51\"/>\n    </g>\n   </g>\n  </g>\n  <g id=\"axes_20\">\n   <g clip-path=\"url(#p2eebad8951)\">\n    <image height=\"28\" id=\"image2917476620\" transform=\"matrix(5.071429 0 0 5.071429 1539.335593 200.087986)\" width=\"28\" xlink:href=\"data:image/png;base64,\niVBORw0KGgoAAAANSUhEUgAAABwAAAAcCAYAAAByDd+UAAAABHNCSVQICAgIfAhkiAAAAXJJREFUSInVlr+qwjAUxr9ebxHFQUpXoTjFqeIqDuLUoZNQik6OXX2S0sdw6tZR8AEqOHQoFAQHF5eCgw5y7mRBeqkxV8vtB4Ek53z5kT8kkQAQStRXmbBqAw3D4MqTULU9ZIyBiLBYLLg9JFocx6Hr9UpJkpAkSby+4gTGGLXb7V9jYRjS7XajJEmyvjiOxYHz+ZzSNKXNZkOKojzE+v0+XS6XHPBZKdzDer2OVquF4XAI13UBAJqmAQBkWYYsywCATqcD27aLhsrEfWh6vR4URcF+v8/FarUaGo3Ge4GDwQCmaQIAVFXFZDLhtT7o+5Vkz/OwXC7RbDbR7XY/D9xutxiNRkKguwqX9Hg8IoqirP1XGPBkhkEQIAgCjMfjXMxxHEyn0/cC71qv17m+8/mcAVerFTdQ+C6dzWZZ3bKszwMZY0K+6jzAvu+XCwzDsFygqISBh8Ph4VJ4RcIvvmVZtNvt6HQ6ka7rXJ7qfaL+PfAHWabS4b6Thz0AAAAASUVORK5CYII=\"/>\n   </g>\n   <g id=\"text_20\">\n    <!-- 9 -->\n    <g transform=\"translate(1606.450297 194.22358)scale(0.12 -0.12)\">\n     <use xlink:href=\"#DejaVuSans-57\"/>\n    </g>\n   </g>\n  </g>\n </g>\n <defs>\n  <clipPath id=\"paf0ddf9e4b\">\n   <rect height=\"141.864407\" width=\"141.864407\" x=\"7.2\" y=\"22.318125\"/>\n  </clipPath>\n  <clipPath id=\"p1007a29607\">\n   <rect height=\"141.864407\" width=\"141.864407\" x=\"177.437288\" y=\"22.318125\"/>\n  </clipPath>\n  <clipPath id=\"p7d0b4e007d\">\n   <rect height=\"141.864407\" width=\"141.864407\" x=\"347.674576\" y=\"22.318125\"/>\n  </clipPath>\n  <clipPath id=\"p77430ad0b2\">\n   <rect height=\"141.864407\" width=\"141.864407\" x=\"517.911864\" y=\"22.318125\"/>\n  </clipPath>\n  <clipPath id=\"pbf8e69a052\">\n   <rect height=\"141.864407\" width=\"141.864407\" x=\"688.149153\" y=\"22.318125\"/>\n  </clipPath>\n  <clipPath id=\"p2ed51f8b72\">\n   <rect height=\"141.864407\" width=\"141.864407\" x=\"858.386441\" y=\"22.318125\"/>\n  </clipPath>\n  <clipPath id=\"p3af0ec4848\">\n   <rect height=\"141.864407\" width=\"141.864407\" x=\"1028.623729\" y=\"22.318125\"/>\n  </clipPath>\n  <clipPath id=\"p2e302090d7\">\n   <rect height=\"141.864407\" width=\"141.864407\" x=\"1198.861017\" y=\"22.318125\"/>\n  </clipPath>\n  <clipPath id=\"pbb5a8d701e\">\n   <rect height=\"141.864407\" width=\"141.864407\" x=\"1369.098305\" y=\"22.318125\"/>\n  </clipPath>\n  <clipPath id=\"pecd77ea943\">\n   <rect height=\"141.864407\" width=\"141.864407\" x=\"1539.335593\" y=\"22.318125\"/>\n  </clipPath>\n  <clipPath id=\"p44806629a7\">\n   <rect height=\"141.864407\" width=\"141.864407\" x=\"7.2\" y=\"200.22358\"/>\n  </clipPath>\n  <clipPath id=\"p2a011be7ef\">\n   <rect height=\"141.864407\" width=\"141.864407\" x=\"177.437288\" y=\"200.22358\"/>\n  </clipPath>\n  <clipPath id=\"p28d7cc443a\">\n   <rect height=\"141.864407\" width=\"141.864407\" x=\"347.674576\" y=\"200.22358\"/>\n  </clipPath>\n  <clipPath id=\"pe35ca23fba\">\n   <rect height=\"141.864407\" width=\"141.864407\" x=\"517.911864\" y=\"200.22358\"/>\n  </clipPath>\n  <clipPath id=\"p7f8a5948f2\">\n   <rect height=\"141.864407\" width=\"141.864407\" x=\"688.149153\" y=\"200.22358\"/>\n  </clipPath>\n  <clipPath id=\"pedd4a0c48c\">\n   <rect height=\"141.864407\" width=\"141.864407\" x=\"858.386441\" y=\"200.22358\"/>\n  </clipPath>\n  <clipPath id=\"p0376e5ca95\">\n   <rect height=\"141.864407\" width=\"141.864407\" x=\"1028.623729\" y=\"200.22358\"/>\n  </clipPath>\n  <clipPath id=\"p0f33acdff1\">\n   <rect height=\"141.864407\" width=\"141.864407\" x=\"1198.861017\" y=\"200.22358\"/>\n  </clipPath>\n  <clipPath id=\"pfb82b8abba\">\n   <rect height=\"141.864407\" width=\"141.864407\" x=\"1369.098305\" y=\"200.22358\"/>\n  </clipPath>\n  <clipPath id=\"p2eebad8951\">\n   <rect height=\"141.864407\" width=\"141.864407\" x=\"1539.335593\" y=\"200.22358\"/>\n  </clipPath>\n </defs>\n</svg>\n",
      "image/png": "[encoded data removed]"
     },
     "metadata": {
      "needs_background": "light"
     }
    }
   ],
   "source": [
    "N_FIGS = 10\n",
    "selected_indices = np.random.choice(SIZE, size=N_FIGS, replace=False)\n",
    "fig, axs = plt.subplots(nrows=2, ncols=N_FIGS,figsize=(N_FIGS*3, 2*3 ))\n",
    "\n",
    "for i in range(N_FIGS):\n",
    "    axs[0,i].imshow(X_test[selected_indices[i]].reshape(28, 28), interpolation='none', vmin=-1.0, vmax=1.0, cmap=plt.cm.gray_r)\n",
    "    axs[0,i].set_title(str(y_pred[selected_indices[i]]))\n",
    "    axs[0,i].axis('off')\n",
    "\n",
    "    axs[1,i].imshow(X_adv[selected_indices[i]].reshape(28, 28), interpolation='none', vmin=-1.0, vmax=1.0, cmap=plt.cm.gray_r)\n",
    "    axs[1,i].set_title(str(adv_pred[selected_indices[i]]))\n",
    "    axs[1,i].axis('off')\n",
    "fig.show()"
   ]
  },
  {
   "cell_type": "code",
   "execution_count": 16,
   "metadata": {
    "tags": []
   },
   "outputs": [
    {
     "output_type": "stream",
     "name": "stdout",
     "text": "Average l2 norm = 3.272\n"
    }
   ],
   "source": [
    "l2_norm = np.mean(np.linalg.norm(X_test[:SIZE] - X_adv, axis=1))\n",
    "print('Average l2 norm = {:.3f}'.format(l2_norm))"
   ]
  },
  {
   "cell_type": "code",
   "execution_count": null,
   "metadata": {},
   "outputs": [],
   "source": []
  }
 ],
 "metadata": {
  "kernelspec": {
   "display_name": "Python 3.6.9 64-bit ('venv': venv)",
   "language": "python",
   "name": "python36964bitvenvvenv794a3f6500e74251b078ca195c3ad1e1"
  },
  "language_info": {
   "codemirror_mode": {
    "name": "ipython",
    "version": 3
   },
   "file_extension": ".py",
   "mimetype": "text/x-python",
   "name": "python",
   "nbconvert_exporter": "python",
   "pygments_lexer": "ipython3",
   "version": "3.6.9-final"
  }
 },
 "nbformat": 4,
 "nbformat_minor": 4
}