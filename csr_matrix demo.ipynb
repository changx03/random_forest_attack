{
 "metadata": {
  "language_info": {
   "codemirror_mode": {
    "name": "ipython",
    "version": 3
   },
   "file_extension": ".py",
   "mimetype": "text/x-python",
   "name": "python",
   "nbconvert_exporter": "python",
   "pygments_lexer": "ipython3",
   "version": "3.6.9-final"
  },
  "orig_nbformat": 2,
  "kernelspec": {
   "name": "python36964bitvenvvenv794a3f6500e74251b078ca195c3ad1e1",
   "display_name": "Python 3.6.9 64-bit ('venv': venv)"
  }
 },
 "nbformat": 4,
 "nbformat_minor": 2,
 "cells": [
  {
   "cell_type": "code",
   "execution_count": 1,
   "metadata": {},
   "outputs": [],
   "source": [
    "import numpy as np\n",
    "from scipy.sparse import csr_matrix"
   ]
  },
  {
   "cell_type": "code",
   "execution_count": 2,
   "metadata": {},
   "outputs": [
    {
     "output_type": "execute_result",
     "data": {
      "text/plain": "<3x4 sparse matrix of type '<class 'numpy.int8'>'\n\twith 0 stored elements in Compressed Sparse Row format>"
     },
     "metadata": {},
     "execution_count": 2
    }
   ],
   "source": [
    "mat = csr_matrix((3,4), dtype=np.int8)\n",
    "mat"
   ]
  },
  {
   "cell_type": "code",
   "execution_count": 3,
   "metadata": {},
   "outputs": [
    {
     "output_type": "execute_result",
     "data": {
      "text/plain": "array([[0, 0, 0, 0],\n       [0, 0, 0, 0],\n       [0, 0, 0, 0]], dtype=int8)"
     },
     "metadata": {},
     "execution_count": 3
    }
   ],
   "source": [
    "mat.toarray()"
   ]
  },
  {
   "cell_type": "code",
   "execution_count": 7,
   "metadata": {},
   "outputs": [
    {
     "output_type": "execute_result",
     "data": {
      "text/plain": "<3x3 sparse matrix of type '<class 'numpy.longlong'>'\n\twith 6 stored elements in Compressed Sparse Row format>"
     },
     "metadata": {},
     "execution_count": 7
    }
   ],
   "source": [
    "# In (data, (row_idx, col_idx)) format: m[row_idx[k], col_idx[k]] = data[k]\n",
    "data = np.array([1, 2, 3, 4, 5, 6])\n",
    "row_indices = np.array([0, 0, 1, 2, 2, 2])\n",
    "col_indices = np.array([0, 2, 2, 0, 1, 2])\n",
    "mat = csr_matrix((data, (row_indices, col_indices)), shape=(3, 3))\n",
    "mat"
   ]
  },
  {
   "cell_type": "code",
   "execution_count": 8,
   "metadata": {},
   "outputs": [
    {
     "output_type": "execute_result",
     "data": {
      "text/plain": "array([[1, 0, 2],\n       [0, 0, 3],\n       [4, 5, 6]], dtype=int64)"
     },
     "metadata": {},
     "execution_count": 8
    }
   ],
   "source": [
    "mat.toarray()"
   ]
  },
  {
   "cell_type": "code",
   "execution_count": 9,
   "metadata": {},
   "outputs": [
    {
     "output_type": "execute_result",
     "data": {
      "text/plain": "array([[1, 0, 2],\n       [0, 0, 3],\n       [4, 5, 6]])"
     },
     "metadata": {},
     "execution_count": 9
    }
   ],
   "source": [
    "# Standard Compressed Row Storage (CRS) format \n",
    "# In (data, indices, indptr) foramt\n",
    "# The column indices for row i are stored in indices[indptr[i]:indptr[i+1]] \n",
    "# and their corresponding values are stored in data[indptr[i]:indptr[i+1]].\n",
    "data = np.array([1, 2, 3, 4, 5, 6])\n",
    "indices = np.array([0, 2, 2, 0, 1, 2])\n",
    "indptr = np.array([0, 2, 3, 6])\n",
    "mat = csr_matrix((data, indices, indptr), shape=(3, 3))\n",
    "mat.toarray()"
   ]
  },
  {
   "cell_type": "code",
   "execution_count": 16,
   "metadata": {},
   "outputs": [
    {
     "output_type": "execute_result",
     "data": {
      "text/plain": "array([[0, 0, 0, 0],\n       [5, 8, 0, 0],\n       [0, 0, 3, 0],\n       [0, 6, 0, 0]])"
     },
     "metadata": {},
     "execution_count": 16
    }
   ],
   "source": [
    "V = np.array([5, 8, 3, 6])\n",
    "COL_INDEX = np.array([0, 1, 2, 1])\n",
    "ROW_PTR = np.array([0, 0, 2, 3, 4])\n",
    "mat = csr_matrix((V, COL_INDEX, ROW_PTR), shape=(4, 4))\n",
    "mat.toarray()"
   ]
  },
  {
   "cell_type": "code",
   "execution_count": 19,
   "metadata": {
    "tags": []
   },
   "outputs": [
    {
     "output_type": "stream",
     "name": "stdout",
     "text": "start: 0, end: 0\n[]\nstart: 0, end: 2\n[5 8]\n"
    }
   ],
   "source": [
    "# Extract Row 0 (1st row)\n",
    "row = 0\n",
    "row_start = ROW_PTR[row]\n",
    "row_end = ROW_PTR[row+1]\n",
    "print('Row {} start: {}, end: {}'.format(row, row_start, row_end))\n",
    "print(V[row_start: row_end])\n",
    "\n",
    "# Extract Row 1 (2nd row)\n",
    "row = 1\n",
    "row_start = ROW_PTR[row]\n",
    "row_end = ROW_PTR[row+1]\n",
    "print('Row {} start: {}, end: {}'.format(row, row_start, row_end))\n",
    "print(V[row_start: row_end])"
   ]
  },
  {
   "cell_type": "code",
   "execution_count": 25,
   "metadata": {
    "tags": []
   },
   "outputs": [
    {
     "output_type": "stream",
     "name": "stdout",
     "text": "[[1 2 3]\n [4 5 6]\n [7 8 9]]\nRow 0 start: 0, end: 3\nRow 1 start: 3, end: 6\nRow 2 start: 6, end: 9\n"
    }
   ],
   "source": [
    "DATA = np.array([1, 2, 3, 4, 5, 6, 7, 8, 9])\n",
    "COL_INDEX = np.array([0, 1, 2, 0, 1, 2, 0, 1, 2])\n",
    "ROW_PTR = np.array([0, 3, 6, 9])\n",
    "mat = csr_matrix((DATA, COL_INDEX, ROW_PTR), shape=(3, 3))\n",
    "print(mat.toarray())\n",
    "\n",
    "for i in range(3):\n",
    "    row_start = ROW_PTR[i]\n",
    "    row_end = ROW_PTR[i+1]\n",
    "    print('Row {} start: {}, end: {}'.format(i, row_start, row_end))\n"
   ]
  },
  {
   "cell_type": "code",
   "execution_count": 26,
   "metadata": {},
   "outputs": [
    {
     "output_type": "execute_result",
     "data": {
      "text/plain": "array([[9, 0, 0],\n       [0, 2, 0],\n       [0, 4, 0]], dtype=int64)"
     },
     "metadata": {},
     "execution_count": 26
    }
   ],
   "source": [
    "# Duplicate entries are summed together\n",
    "row = np.array([0, 1, 2, 0])\n",
    "col = np.array([0, 1, 1, 0])\n",
    "data = np.array([1, 2, 4, 8])\n",
    "csr_matrix((data, (row, col)), shape=(3, 3)).toarray()"
   ]
  },
  {
   "cell_type": "code",
   "execution_count": 31,
   "metadata": {
    "tags": []
   },
   "outputs": [
    {
     "output_type": "stream",
     "name": "stdout",
     "text": "{'hello': 0, 'world': 1, 'goodbye': 2, 'cruel': 3}\n[1, 1, 1, 1, 1, 1]\n[0, 1, 0, 2, 3, 1]\n[0, 3, 6]\n[[2 1 0 0]\n [0 1 1 1]]\n"
    }
   ],
   "source": [
    "# An example of how to construct a CSR matrix incrementally\n",
    "\n",
    "# document-term matrix\n",
    "# hello, world, goodbye, cruel\n",
    "# 2,     1,     0,       0\n",
    "# 0,     1,     1,       1   \n",
    "\n",
    "docs = [[\"hello\", \"world\", \"hello\"], [\"goodbye\", \"cruel\", \"world\"]]\n",
    "\n",
    "data = [] # Dummy variable\n",
    "indices = []\n",
    "indptr = [0]\n",
    "vocabulary = {}\n",
    "for row in docs:\n",
    "    for word in row:\n",
    "        # If the key exist, this has no effect.\n",
    "        index = vocabulary.setdefault(word, len(vocabulary))\n",
    "        indices.append(index)\n",
    "        data.append(1)\n",
    "    indptr.append(len(indices))\n",
    "\n",
    "print(vocabulary)\n",
    "print(data)\n",
    "print(indices)\n",
    "print(indptr)\n",
    "print(csr_matrix((data, indices, indptr)).toarray())"
   ]
  },
  {
   "cell_type": "code",
   "execution_count": 39,
   "metadata": {
    "tags": []
   },
   "outputs": [
    {
     "output_type": "stream",
     "name": "stdout",
     "text": "[[1 2 3]\n [4 5 6]\n [7 8 9]]\n[[1 2 3]]\n[[2]\n [5]\n [8]]\n3\n[[  1   2 100]\n [  4   5   6]\n [  7   8   9]]\n[[  1   2 100]\n [ 40  50  60]\n [  7   8   9]]\n"
    }
   ],
   "source": [
    "# Access data\n",
    "DATA = np.array([1, 2, 3, 4, 5, 6, 7, 8, 9])\n",
    "COL_INDEX = np.array([0, 1, 2, 0, 1, 2, 0, 1, 2])\n",
    "ROW_PTR = np.array([0, 3, 6, 9])\n",
    "mat = csr_matrix((DATA, COL_INDEX, ROW_PTR), shape=(3, 3))\n",
    "print(mat.toarray())\n",
    "\n",
    "# get Row 0\n",
    "print(mat.getrow(0).toarray())\n",
    "\n",
    "# get Column 1\n",
    "print(mat.getcol(1).toarray())\n",
    "\n",
    "# get a cell\n",
    "print(mat[0,2])\n",
    "\n",
    "# update cell\n",
    "mat[0,2] = 100\n",
    "print(mat.toarray())\n",
    "\n",
    "# update row\n",
    "mat[1] = np.array([40, 50 ,60])\n",
    "print(mat.toarray())"
   ]
  },
  {
   "cell_type": "code",
   "execution_count": null,
   "metadata": {},
   "outputs": [],
   "source": []
  }
 ]
}